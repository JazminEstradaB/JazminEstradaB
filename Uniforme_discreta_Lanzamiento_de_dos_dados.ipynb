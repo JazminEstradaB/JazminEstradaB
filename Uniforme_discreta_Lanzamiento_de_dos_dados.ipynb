{
  "nbformat": 4,
  "nbformat_minor": 0,
  "metadata": {
    "colab": {
      "provenance": []
    },
    "kernelspec": {
      "name": "python3",
      "display_name": "Python 3"
    },
    "language_info": {
      "name": "python"
    }
  },
  "cells": [
    {
      "cell_type": "markdown",
      "source": [
        "Estrada Barrón Teresa Jazmin"
      ],
      "metadata": {
        "id": "GrvfstVwHDrs"
      }
    },
    {
      "cell_type": "markdown",
      "source": [
        "##Lanzamiento de dos dados\n",
        "\n",
        "\n",
        "\n",
        "![image.png](data:image/png;base64,iVBORw0KGgoAAAANSUhEUgAAASkAAADSCAIAAACZ2aG7AAAAAXNSR0IArs4c6QAAAERlWElmTU0AKgAAAAgAAYdpAAQAAAABAAAAGgAAAAAAA6ABAAMAAAABAAEAAKACAAQAAAABAAABKaADAAQAAAABAAAA0gAAAAAQllPyAABAAElEQVR4Ae29IZgkyZElXKNvQQ/rYTNQx3ah2A0ceAuX7UEdFBy2goIz7I7tQkFBCS784Q6T2Am2WA+bYXvP7bk9f27uERnVVVnd37/lX31R5ubPnj0394jIzKrM/Oz9+3cPP//08ObzdkSj8dp9rcbrZrjzufDZ+3f/98aJ187IOCdx1I50W04Y5aRtka+xVrfXWnE/sA7/tffG3/FsefvlL9tJ8tpeK/BagftX4Le//e233/7m75Tos88+k/1qvFbgtQL3q8C//Mu/gPzv+pO9yEPXnVL+7ne/w+l91xTnyl8FvFbgE6kAN2p/zKldi1ths/nMjd5nsfX4/uGhpXgWzkfpLAIeFfuMdQiqXuSX18CJYAl+8+v2XIPtxdaiLMGL5VWdiwD5X7gOTPeA+97aKJGlkVwaeikFUY+ytdJK97z8N/UUAZzOC2vQ3GE8sZ4358tcZY0kgH6NvkwdyhKwCNLALo7ueV67CPjYe+AXWo5ucBmoknZB+ASu25ynqJ6dn8xHejDqAu40x5saNP3VgPJS7aO5PMVf8r5wHXwJoIQTKbOmwqfM8SgWzC7ghedeKh/d6fle80C6yiGbHhzLkPAwhDmxMcTm4PQx9Z+++ccvf/5ZvuvGj+/ff/OX/xhXzZKiLEmZiM30T19/8yQBUEw2GEVDmYwl9ZGnVqDkPdEgAQiR/fNPTxWg6cvYatg6I+TZBJQUIFejNnpkJ/5l9sAvxkaRLBgQoSabQlNfG3fRKx4exWpUhvO4nYDP379/ePcOPTeaPXuEef/jj7f1JHn77dpkc44Bu5h3EoDAmzUJ8nHwudPOMQg4ma/yEoPuqEAy7OeIUSWlWsfPFTgRsA5NArZ1UCIakuGSDNNS/P93D+ye72HyviSyUSkNyQmPV1CABp156NHR18btAKDobSEfHr7461/b2ebGjz9WT2ICuNODAYrviPjlU5CdsI2A47wSOZ144kQ2t6mBHve7HdeXXoELeb9IzI210PRL9tIN2KhAkmuaw1iGegYnnOclCc1YYQYeAnJ9T/JqqPOvexIDubgdIwHsK3XCNgKW+SqvjM2kCn+mP3i+V6QDTU+GTWvsFVwBmpKG3PBEJUXAcJp9ccFwymE7+fDmXNbRywJ+9d13/+Pdu19+952zNvuIc2WGR01RVquf8oH3tgJFAC9Gje98LZSRBjUoqWQYDIn++7t3OMLnSg4FlHmJiuTquuF5F9hFAc432U7uA/Jr+hx9ugAxK508yGXtF/Wk8sVz6HP5mVtskuK55MwTzxzN9E3AM7MDSuGUBX5v7ve89DtyJwAZ33799cOXX7795hvH/vj27dj6GvBcctLQkPym//M3b+hGOp5aNHBcBcCD1gR4W/l9FDYAjnE7kT5TCcCg+9EdAkCiVuyjVdji0+mJTgQQ3ipgNWxOTeoo+xaf2fH70QKUUSTyzBrq3/c63kHPZUsKjMK5iONVn7UG/AvUNG738jjZsBeeNoRc8K+taCBgRiqdBACFM+HdH/7w1Zs3737/e3SFeYsHyVtOgNzPRDpSHgHUr6EkR4qfcCrGnZDn4Q0Bzum2mOXkfNUFALY1JXpjAqBHfmBrBcosZsLB7X4JsFjuASW6KoAMxtMykn/kTqtooBux1h4tYMsJQvcH/2Oe7yHAp/Qoe55PS81wJ7EC4ar/888/t/sbz7p47heCc6XfvuWTnIbJOwMB/ej8xjwwnlr2XKBVAHKh/eX77/EDg6mHAPFg7MhuBNYIc7ANUgCe+H0R1cAIc90Q4Jxui9mdSi2nYDHTv/3bvzUB+XADktrP99//9f/8H6yRYcMUiSrp/AW9gm2luAcw05sCWpXutgceLUDzxWSP7KjDI5/vsTQqKyjk8TSr30MicT8oHP3CwILm7Q7jrC8KjdZfh6Adx3FwTtoYcwEClIwCJ1fLaALo5krD1npTUhsVM6HuQa7SHOy2wSgADiWlAT/aRkD4+8E5afsobDjVYDsed9o4rySAQM/++XrirZysMI+eTnkZooWQkYCbAgBgHdpr4mo+F9oYcgEClIwCJ9WjBYg5GUZhkcvaR3q+JwWc+awJgz998QULiiMal/zv//jH//H+/a/+9V/h4ah2ZKBy6/dOnMxHtgrkqSkmQiQAPeZyg3l9I/Y863TkQcbSNAS/bBjRJIAVgA8v7eAFHrz2gLz4QdsICH8/iBN92j5KpzyZtyHZvvqKE5cAupl9rUmPUjj6TKpjRyy/DgBrBfQCj6ZPLna/YqecPEWPkivpis+VogDtOlYbBKzA13/843/HbrTl6ALEvM0l58PDY/6+h7CU1Rgea1vWHk6VpJIdsPby7rLp27Pet2/f/upXgHghIiIOmnbRNpN3fMHQC2Q0CUDPc2HPcS9KHozRtpwYdv9Ah4UhyTOYBJAfScuTfsmQvEFcOMUvhABlCP7UUAQoCyugLg2KafRi9lyyi+FgtwO2CigVIFkVwBmt8yoeBudkW082kNEooO23eddxsn03xuttrAmjBo9zFjugy2NOEmT61nsW20mUguVmCtozrCzw3/7wh59/+IGvcJADx2na8jqnO932XLK1AIEsAuCDR06SjW2HvnhObIYBqekLTCcBcVQuGHjSr+mjy8bs6k6cQJzoYXbXQLyH5GSVBQZyMR2O8g8BZV6uYWZu+h0se4YxCxOVCsC5EdB4s4kzHfW355I974G//fGPKjvCoYeSfDfS2cnFg/6RHdDltRZfEhfxXP4uMH+JFg7aMYLbPV7YRGU5T87t/f/6XwyjX0PJlb9XTni8CYDS+BD9gdwK8JWmBmAnGWJWOnl8GTBa8sIzi1kFtCf933+vdDA2jSQzVS+sZ2SkexadLgBw1Zw2jhBAMbRxbO2I0/1E6qjUDM9CFQEYXCvAFdFaiHKasvMLIee2VgGDALye9x+26xjNiftuhH8sh5i3ueRsjzkJlcsXL6vQBp/Lz0RiU1cpwoPbPX6P+YSThQ6zX/Boj+M6F41dn0uEbAVghJK42K4HQ+2PS2Ve8MoDbaVpyGGJORKAcWhA6pI94+y385t7mACoCZw6JYCJNHF0YVMDot1uZEec7mdSZVSX4TsBZbKendHj+Kx7AInQVAFOVh73D4VlXkDLk1NrpB/t+Z6LgM16uTPEaW6rwaIEyg7bSR6Q1ys0acBgDc+n8erOL+3VHSkBijsAHhh4kW3z972tHuNvpsujbYBVAAaZkRWQBgvacZbaKikVKngnoL2i8K//yokDyLz9lQarTH+ZUczOKdsNlwR7DQwwE3EJPBovgXzz5z9TGIvQR7c1PyC/uAdYAfCjCKwDMvYKxH/8cEVGBSRUeUudA/CJPd9L0e12n5sbPhVXBkuQ8N1vrcFusPkAUJONYkWjgPLqDkYowLPDgzZe44puO0gAF0D+YgimkABsBSAvywIIbRgQQA0truTSvDBUbN8WLTIaxYRZBDAFj0hdKgPPqMCRBhfg6ehnasMUAYjg3HFEg4A3f//3eCHEhcWIHRZOGwvT0o36QH+0VQBy4UcC2msw8VoLNYwKKI0ElJoEYDn3fElSREM+0e9UUua0smMUD3g4Sc6KRceIql9GIygPkgqH2zk+nCxN8UeXAvBXXT3PRmoWHamZXXH0t+6a7mjiBbwErgIQwdQwWAfKGNkx4IuNLttCPvwJacrZcjuuApCIuZDXX2lAHDy9iQd95aUqH0p4+y2Y7BhdBXC+zOUCpgpE7IazZFfSR+4B0FOGBNTsYqYSHEvq9B+/f69Q+KK63Mf6M3H/fRQew6r1amDCXAMZLWKrmZmQSO0oKf2CPTz8x7ffosfiMl3pSlgPcma6xAmjNAe7bTAJ4DSlRHk3RVD4AafG+4nKPsGw540iARhhUsLxCoQqL6MNiUf2RRkHMBcASmngSyAqSEvNduc9oIx6rQVp5WwS1omoJjCsfaJ/39P/KHBvQXAxvCvwZtqILIuhyfsmk53VGZyWmqFIrewUNsDi8bwsvQ9Jg8Nkx+jgjHTM6Kldw58xS7zSo4ZcWm+3V4BgHCI47CKA455UtoyGWdPBc9Qc7HbgtwIwgnTKKGNk4Iy281qVuEc2Yo8FMLtrk6S+BOLBAGzX40P7z2tBjEt/FjvnE5OKg2tyGy8Y5pv3BMZLiO2VjGhbG7WAf0wVyJlTVMMggH3ZUZ0PFyCeIsD9nlF+GtktAjRlGeTwLv/JbqqANCgjDfnnpG3wQABGPNeJvSl7crah0lyA28seOMq4CpsqMHOW5K1LAAdkX9sD+BsY44Y2esQj/gMZn9zf9969e/fXnBXn1o7uObE1bRm68Ayu5WqkoQA/ScCaLhZSGYbhftqpeSNAU5ZBotJ9ePin7TKvqhi+aoD/zecbAfB7rhO7cG71MLuOLi/sjYCjjKuwLOM4r5x/TSo8h44ErIlE5dqwBGs6eHbtIz3fK0ti3V//9S9nly5Dtul4121OlR7ZNLZRwvz801MFGFWVJwEnmA8S8OYN/rF5fniDFGtBtgJcDOwPEjA2eqn5qkoaijzrPnUJVg2a4zb7gr8uoFcetKa/J3GPbAlojzk9sQb8TH0uW+QwVk7J0GoBJsXEF8yWh1lEohD6/bhqUCwNxooKznM9JHR8sT277IKRYPoBg8F2rKedeGq0C48DgES3zIXhDhNGQwhhLD3HeoZmxzNKx5IL/q3morNgCn/hLLFKLaPgVz8ZvBQz5/IeqqBwfLGVov1tfduQQO1ZbCchs+aA7pEtDcQokAYLdx7LmTuPbJe0tUusEq3+65xCyhAtPKvtuWAXjEiKX9ORQYDwSuT8jvFARjHE8Y/S44GrDKYWRvKElIZirBrWWNEWNnR9mlu7xIr8ul9JnT+cn/E7wPBdKPjA9v/8z/8U8h7GC6Q4l/0q4LUCn0IF8M0I8V0odgZD1vneffroC6Q4F/kq4LUCH70C3KLT8727flHJJ/I1FHed4/lp/1qB1wqwAnnuzftlfE3H7H9qD3fXbPdKkfz7368CXivwKVUAu3T39z24+Zxyv4ufw2tVeA66WxzlaS6z33uORdRWQ8HctfvRBZTZ/ZffAwd/32OZuDu5ZqiUFu8p9spMz1M4b8YC4I3zWpXc5EHIB2OKBlCpvB/M+Sg9JwIexQPwE/Fk0PTZfSLnzRqW6X8Ce2B6vqci6O8zX3z1J707JEbx94z+ma3Yhqc2/jHsHzuPz5M5WAgvh2PuZI/pcSp2QlLJnfL6NIsGdDF677zOTwFKqiEZANzblgZOn90XyIt5leZLQ/tl5h4ybv59j2ca/k+XP1+mge6JDe6fpxNvnTY8/AGWEybmfnapO9PR+ZL2KoNnwgvUQalVZKV+mTpIgNJBCYsvSRi6n70KkIcyJOyu/iBfzj0uho5S0Ay/bFywfTIgXBucnujetgQoEdfY/fewfSeJH4ZkvJjt2ZlUHohRu5Pt+8FzvWQdPK/W5U7z3eaS88bntRguTC4Pz7pzO+Cq6bboJNf88Saor/5b8xFs/kddBRvJUSwzMsVO21nsEefi7yTbXHLSuBKrEIDVTu0vvvjqsIZioLHwnMUSjCNLB4YD+3AdfYu7EuM5jDXMUV75z9ZReUWo6cTQWaxCjudODZ1km0vOs89rQSb8jCbbLpAPW1vIuLQPhtnS7of7558gl/9ho7tBmwAaJxyYrd23C9f1559A0jxbfPNa863gAgAJbYc8mQsKgeFR2roAyWZCz2USmhm5pgpk7DQ18XA0jhsBbz5//+7/ToHJP6WVM3NhFGyIddghj8KBDrsh0x5LIC7ikau0macJeP+uEaYfnhYhkelvzrSnIoR/CEjMwDfLGgBqH7QHXBuVgO/iHlgec1IKZ+vKxmmGz8n3Iq52zocwUk0hkcP8o+gBw0L2ogPI8sEwPO02Va6NNAemzZx3P/lplGPkog/4vuoUECdVGzJMsRmCKO7Xvk2Dbux+shceOkOqOLuAxKOLn+zNc6c3NwpyNeU4c3i7i3JNAuZEnVPOLC/CyUPAtARwAa8QdjMQ/paazvarLRmoXA/dbSlLM85egaSdBKRz1cAorkLXH5xNwP33gGaDXFJC57QEdEHY3JZzj/PUbCc0g/FB/V7EIztPG4KnECPNPTQWJq7cvY4EUox4uGBxdcEMG0TkiWmlx4aQ3zG0tepFAEIgIM+oRo4WznGkk/7Ey0djlN41OMj8kNrmK0/s3T61EpJzbyJ1jwp8A4oBxdHdjwwYWtZe+LZvxBb4UQFx0iCP2U28xyZ+CPAQiinHsgQYvbwHOpPp6ZPS+Z96GrLYz7QH+lmHIoAfP7lGfRNmt0u1X5c/n7PF+Gmmk5hG6VoGmOuq57SpuysGUtWRwXBOqdjosjn/RTtrVAVQWBIP/sRrLm3DKZer3UqSfmeOXF3A4h/kGCrhFKlj3PTa2Ytmzk5JbfR3V/6C02PTPf0OTPfIpoGjyBVTMPLD0BCdDMdtc37QcX0PIBBM/Q7p5BdtVtXPfAZSmCun+MT7RKp4xroARmnKRnvj73uGxDrx3KOh85BG6Ubcdg5k5Jr5EX7iXaul7/tPISs5h5Kf193pfuJssB3PrjilwTHH9lgA46kCPLwokRjmJXKLF0BSsfmWuxZrNQSIX3mdR04aGnK/nMobRp24QoDPpz3tIqVwAWAEZjrCSX7iHUzbeXi3J4muINltcADi5n+/PcDpt0dY0frlL1JzIk0Aryx0EpfH5TEnB1CC2qaz67vv/uHdu29wNJRC0mAhWM2VEB46NeR4L6IkwakQ2VJAQvlFCwDsLeGKoUf4AjjK5f6btgDFQC7mZVIeNR2CBUg/Fx4L3CaoUYFpJHgkFBJDpWnI/XIa1TjxMIrGI6OObOdkSImlHjhhnGsjJsN5mlUNHJWkLeGKSc4uoAA0hfC3h9zxDAXHthZIcYpXNIzl3GOwjo61v+99/fXbL798+OYb/IVdTasowzb9Om3EuZM2dMsQMTzyr7bzMNYxInHjBLAdklMylNQfsSiF8IJpyA3CHAMPu0pEQ12GEwabz4vi6VY//QggiWDsgqQ0CaCfXUZpiF0BkoF7rvcK5kjzKgDxJRYeTdbx1EPwkZ3a+gkAGPHyu+Ek7oe9HZJT8iLK7+q8y3UyT+225Tp9vme4MHlStSX893//8Ycffv797/2z0palpUpW0OtYaaMPgOOJ4YSFd5IrtgKLoURrUTTkIXIueuq1n1HCowv7qBFWMDfxBDA29fRHOx7rNlMcTVbyyMlA2qfacPq1n3xJlvZYxJJOhEq3GsAQhqNazrE7fOjEZpQDREgDQ8QUnRjVkIfIeV0PQ0joVGkfP99D5NTQ5bnXjr/97Z9/+9tpOEcFy0va0Qw1B02ehuN9wsomgOYmT8EcdelnuoKhk4QYckyx47X1tukX/7SopHKMMhbDMYwSwEncvlkfMRRDJHWVr171+9kOHjSWIm6/PQ/52SGmD8y/BBOGBv20b85RseA+sjm0nawr8ry0TziPcskvgylKd/OYkzhOeELzxMNwOScZIL9geclX7QSkEf72KJl/h0EuluYU3zFkOAkpJwY5VwHxmA0X7ImWMiRSUbMfUePEC/5pInosug2HMyW1CkgAnZ5IMk4my5dbeBWw2KEwc0lLzx7+IUAplFQBZNCRxi18FwASBYpQKfjHgCfvgW2u+qgEgkuDsCfsgelJprYcUuR8qwD4re3ev5eR01WkxfCepgnoFrf6f2xwX5t12g2xXKiYOl62wmArqL1K1jZ3vHrWhcVsO0w7zxPRnicMfBfm8pp38iM1HH1Fk7MIICYi26GfijkF+Ue64cqJr2BgQthGQJzPLZGe4CXhuApwUim4j2+dTJQMvaTsbgWE1FEBBYrnKIuQRdXWbySjAgd7gGJIw5qIstccfSUtpVYi+L2ZfwiwRzejAoHsp18w+F5tDqWmXQS0984yWQS3AxE6yt8MnXX0qiujnIQBo4IyQ+nIq87YPQgK56QkmPoVmsmDYdru0ow9qpuSJWJcOxoSPdJOAri/FZshLmCTulGPM2cCcKgcUwbXr+DbQhYBKZX+gm/chscW2QC2AmKyK74KiFhwth3JPaO9tVuvSmjaugp5PmwPIAqnBJrEyAjmF9gDnMhUZ06KAm4twYXvY+il0uXhxNBJ2GPqiZ3u5kfL6vcVzW5HaWnRV1lpd8RyaQl/W/W4Mwi1N0wDd7/01HQSdiJJGD32KOC9iD61SYCoGCIeGLIxBJvIBT/2vcNcwBLbl6DgBSv+g7zSs9n3np0255LiH70HEE4GaUsqOD7yHtAzDimkSE48j8vfGDiAaUwNjyFxjcHx3CAA76mNVkkmRq0TvWPzCeXhUda+pQCIbjsudl91+DFthzXo3DBqgLH2QJnf7bGnAVCbeca2W3kU4kbmGgKoXBjj3wsgMnkqJv3ia4aclqstAZ93iVAxwEebyLmxRJXgUYFlKCH5ewY8eg8kTZ9OzmXsAQFgMJd76DQNYwmEx+hsTxVoY9EIS/s2JpBXnu/hq1fydCL7jSPOwLcNwlpwhXhcAw2D0vdxOed6DQBxglmuhqGfzs4YYty2ikvniAUDwyUgOLE2DazGRDwmvpKkfwokg8IT02M5mk6fzhCwxHZ+/2+PFSNmGgCohT343a9axX+K9BEnh8u6nUSlYwABonXDY5+yB1JnXQLjH2nlRBRads9iA1NLBKeaSNZ9IowZp8/3Gu5vcceziEsm/7fwnzSldtXZtqzXhPT5IMoxTuL+rX0Uu4JJS79sGFnNcdUsmBVQkjqezDquMlYPwcrCrnNetBFYqgrPxVhlX/H0XPdTfzk6idsOe4p/G+tO2kxXbDjX6Z9gjjQrnQFu/H3v/bt/7mDlEwvXcuuX06Vb1mZqSsV22BHmw/zOzKTyiLAoJ0xOGuoyHLFqWx6RCOaGQgQjofuP8l73k1N5Rb7O5YjzWWJFQkMy0HXbYe5/uu3MTCqPyL0mcBIm51qfFSOqEktkZjx+vgccKQBVvgwbQ/QIMLO3QQ0ptoRsMUotsMJBqPZYW4EwSiwzHuV18BGGnEc88HsD4TmPwEKu+JNcinIet9fYK3M8x6ycyKgQGasMwsoES9fDn2Iru2tzAUd5PekRZuVUOg8P563ne8yBI5rbIPIuExDGoYLnEGF+dBK3j/jv7Zc2idF0iqEuQ1b86hc5DODVTmId4/aH1UEMNIoGODWpI/6LGPFveTiqo6YPj9vbWAEk9TzXB+BXYcpVDHWvaxD5w8Nn7cnlm8/fvv0SH1L/+l0oVpm7mC9Q5HPdrwI+hQrkd6HYuQtZ5yv39NEXSHEu8lXAawU+egW4RafHnHf9npDX78F4rcBrBViBzbkH17e/+fV4cszHygQ+l40U3/6GlP3B/fPyn+jsWe8/x60GOLO1CmwxANzPXwTcNRdnejSX1z0Q9bn19z2WT8tGwx6mjmfnoLvi16pcxF/hvIhhauVV1LPPUczKRUMCaLxMXmmAKm9cyhfWsArY1kqaiX9GjASQU8wvUweks3b8/5zAEUpZFtNMZ7lil/DSBUPJcoXzsZiSlBlJUrIT+Vj+czxSeHuxvErqAl547tJwYqAgZRXO60mqx2KKgBeugy/Bw/odYJpSyPriq3/HP6YWwdHFf5npS1F24+3tAd9Md8KCUq1nQSOEAESxQIQ9xT4SAL+Loc1EGnLjWTQ4iYRpyjIc9hSb+ksiZKFfzC8z91UGBHjT9GVIIWBPsT0LbPLj6Lb4aWjIDWHgfKyNkGjTay3NIyJNu3nj/zObcbHhXzp/HhMD51FTOgDcVlE89hntc36OPrueUgTnd/tcGwslqsfWRIFHPHeau+t0DZTBpMW+ax1UcKWmKum8Ux1s7o/6vBbFTQ9b5U0jR316OdZ/q6zyw6OmUTK4/7lsaQOh0sle8wpfdD5Kj8A01rxOvmpQuMMu2swlBgmQRzzIi0a8nPA8ox4mXVN4Oo0+Y94j/jJfpl7z0rP6OR2S3LQFOPs+hsI1PioCJ4nuY+2EWT4vUKOxYJZsmJiAWk6pvYEl7b72C+amH+8fOcSIjQY1sNDw5LvC26AvPMEBkHmis82C7WgugyUsweJt8kP8kYZb/lEBTQ15OFmlVlLHSICcgiHwVl6lOFtHCSiSMtFZbGJGici2+EcFlE4YeRQLw+Y7lu9ovmIQp8KTc5AcYQK5POZkPOjQEDmabBo8A5u9+7zACHP1JBxsOeHUDbl6d8aQHu/UbkGFSsL8jaqBAUl/+5Zh+qni2cmJY1ZnCMiPoiC8q9oJ2OrE/wlVAZliyu+EMXBDAIM9atUZmEkA8YqlgePMw4WeBOgKwiVQMctcksen3ARwNZHI8QCXluFVQLz5Vdi2BGgOph2Iugr8ABh9cAFZFMuujvCjpcipAvGhIQSe7IEpPEIAnpaAFJmCPR6Xc08gyhpYnmzo47tQHvwrGfB5gW/evJ0/LzDCRIUe7G0LTFu5fONWt6NYqMVYVJZPJH6bcvJ4j9mIMrxM1botJ9r8LmOP7QL0nkAmcs07nbX0VM5cEjFrHqseN5++2LEFXU+Pjlj3F50IH6PMrrxumIaOj1GPhT26GNVc5tjBGv4uIP5dcVR7gGYLIbyGftAeUK0G6Uvtgb6r8yLY9nDW58oeuP58b9zu7MRrexefF/j11z98//1fxuRppY7Wg71tLLp/8AbBsR46IUeocaLoHeDksPPzP6akBRP83BZj3zsmZOz5pQb4A53cfJMARcnI8NsCqNYD+Wkl6W/7D03689rfPIlR9DASPwSMsW5NSyA24+yxCkxOBGKouw0v4DCesAecZLJfcA/w2tQK5fXxD9cZyibr+P17gGUdLaLcvno3zkb8yUH3xohAxdFYd9pG1Pe9fxJZgMdilwVzHrfFuXWeC5hvMo0p1myvWfxR4ks6pY0yvJv2dFeJFI0ZBhuXYF7UNiJAwAYJkYwtMA+JRGMJ+D7rjO1nMsMpoMSe8yePUIdGyGjiOeXMdam2+cAH4eDvmjWvkvLE/4Q9gCSj8sp4lAsADFk7fv9erWC5cZUuKUmdQywleWhb4n6RgEdDVGb4aWLm77EKJK0A4b9959mGs3Cpc9wQHDxjIGboNNgQUPBJXn9brGoyMReexE8igUHDEG99uPOELcKeVE7iXQqHMlcXkJydJ8NHagLIkxpwCiG8pl5z7WJ5XcDIqABhKQy0qDBS8DglgrwAXxLQoNnmudM75khaekMGh5AaBn46SxanLwErINmZCr+Xc48gHGuTh6dW6eb51qJyyKk2hHMCAqgbI4ylgaOmXTjpd3LYjpmT9J4Aol1hxMivEHgokkcH3LQFoKEUMNgez9n2XGzQrgodkYgWTuViIh6Lk11GaY6OF09gprNiHhoaFF5yye+GpxYhDRwhiY1UOBIfznGazf4esv4SiWiPMPIrBJ4sMovAS0BbC9XNtLlOkcG4/nwvZ95PrdLl7pHTU1jV5E7pcozKsha6mQBBMGeuAMLYPbIFLgYJeTwa8itu4dcahL9vQfCIVjaNkkJdCRA/Fyx56hU3/Y0gbV714egL7+SyhXfP6kxOofrU5vlytGoTG0jUis3Z+ejq4SgDr+yBRXMjgHPrV2piNC/3+9DNPaAXgSPd9EhHPDRKiuhef76X1+b66dRkRcUB0BmI/2uJpulBnDcWnU4tAOsFGIuO5wDb5pyMlUd4eo669G8xSTj2lpMsdoMVnasYRJFW4VuDmCzC2PcMT3+/g6VO7rN21ddjHglgeY9ykXDFZHivAMOZTnZEtbPdGrvYf82XJN022DDJSQHipyqAru8BgJmOBhOQULSOIUAwrwB5MvbiHmhMJRE8mggTFUw4l8echCJyDe5/XveTkGieeLRxTIDPSoMyxC8YJ+BXO9VCGIQzUOHuWcnpcfA5JhKNoke3Ryx2Pz0wfKTTc8mmsUoy/ipAQ8UgCbOLn04e5SzGCSaGhgCpFUMAeL/VEYO0O0r86MM+aoQ55gP2gPMXu3RJ7mIkgE52I2pUoJAo/Cn+IFnOPW0j5Ujju+9+OX/fZZ5jOtnG/75EjFOt0w7I9DAdHl3tGBu1QBW6BBGGvzk5fydPTKudXj1zAKISg/AqYP5bH/O2K7oKnbGd3zQUnf3MLKnJSA0ROwnI+ba7BwMjXRPgPLDD3526Ws2YpnDmUfJuBB6Yxo+WnD2QoMD0Csz8nYSB6hhmVEDrJZgZUwXgf+weCKptrua85x7opePsfBVyvkOVzVfmrffvdWC7s9n/r+BNDHhzA869gzue6GmklOJuXQypJWxs4hjqGyjmBoe62CuYGzxjkyVDp/TumshHGZAY0nYSy0hhTUC0I539lAAmd7OoJoMCMmkrBfF88mZQTZnC2HWRHYAQkdg50IvsHpITvNrXBBzmWhMpBY1yVAXgT0lHtZ0qoIuyrVEvfvKIsOVcEwkmSYnx8mJwLEEkbd1o/cJBm1c6chZmORkWx4vP99otzv5/BX/K402PR52BNHC89XwPdNxny78gaJK9iNKqvxdrafm3OAA0z+Q8PBvF5gL8v0BQZT5/E6dCJCA8DeYY2aEBKzcAGhKVG0nb80a3bqCcFzDalBt+JGIrd2+Gz0m7+NDWaCE4b5J9YyEKjeJpR3EkoPMFeROTmObfCnAAgyMW4I2AHOpZEg9t7awIKgn2uTRgaH6BPdBkaBNKaGhDrwkod90cInZ5zEk31LPoYoz/X/nVr/6/77//q/lo8gyE7SfkfJlZYka94qLSCoqMpblHeujUNOinM+xedKcixj2wFZi7v3nw40O0myvxMKLi4YoDQ9gPu+/jgVhgPoQQCsAFFXZ02zgNHGm3X3NJBWAp2A1t07YjA8N1XGK5+/v0AXNOMihEJDTcn/YkALD0l1D395MKyNLcQx4SCiZyW5dJgPkV1A2LHQKYUUOejk54CidDSBr22ANbnkAu5x5JcZwa7mPrDx550ilDmAh2qkqY7IkZa09k+hsu7amg5h8Yf/zZvCOWvX5Mwr724e0CHCcYjGhNgG53WgaOJbhjtjzuhJ0hza3zn7lELkz4+4oSQzYCaMdxwgi5wBp2dtYlWDXEY9Fxt2E4U5hdBYCHjcjesV8ZWwWkv0HTnvaAE5o9BGgKzGYYET7zHohEF/fAlb/v4dTCo9v154d04k64jv7oV7Vme2NR3On37tkvnr7qu1hVsJ0b3lYwRuXkYmT3LDYwTUBpGSv3FUwHe6zzw2aDMWOGQvcrN4yTMvrOEz+cRjUqLM5ZwwSwwEMSYphFnCW7/CfiM9cQUDgByFaXIGNzPH7LybJkd1SY6PS3XtiVPP1tNO0bmIZr7ebzvfPvQln2Iln9qNUtTnUF4Dy3fjhVaxaLMI8VhgANyc8QHR0gzFHss/iV2g2X4TYxz5K3FNYnW4aYTqk5iqOHfIDtPCQnidvC3NSwxm55CCOtbCFplIJ79062CVjeQ8SxLPf797+ud2fVqKiXn6Ix6uotZTcd76Orv/AQwBAHr37HeAr3O4P772c78xXNBYNwFcTFX7GZGscV7KrcdqT7H2uTh1E6ruRO6yGasgNkwyiA0nUqRilWSMfc247st57vSVmZHvz4YdtiNMrADl1+bWMZovnTUJccCrzuV/IPiH0WDRLACar7KD0AM1wTV/hNvzLSIJXsozkqSomU+mbsllOEJRxdpSj2lsfBF/HM6OAnzkUaLvJIwI3/5wSdWrFLlwoApgKOFltUbhTMlod4DbGrwOt+5f2AWGa5nmuLl4AyBfmv8ysEc1G7YgsMo+C3mi9ijmK3ftdAGZo40m1thmiIXYGv+5X6A2KZ5XquLV4C2nehxF913n75S3xI/et3oVhl7mK+QJHPdb8K+BQqkN+FYmsFWda7i/kCKc51vwp4rcBHrwC36PRay+t3oZyft08cff0mkNcKsAJ57s2PX8cXlTxxo5VwZMl2rxTJv//9KuC1Ap9SBbBLd3/fM4n7ffwBXn/KjvB7pDhX9dEFFHkvXIHt9Pl6QxF2v+5Ww/3SrcwfXcAsaXrMOYa4KtSKXSLRH2yvW00pPpgTcq/Hngh4FA9rdD3viqdH02cXx6dw3owt02f2VclNnqfoLBpApSLcNa80nwgQBsYL2JFkOfdYhTx+8dWfHh749mT8Z5m+/OSKjRdQT78LJdL3DaeirHuCsOfyl6SilQHAvW1pgKGJv0BezKs0z077Zea+yrh3XudndsyXTg3JAODedmg4/X9OKOjn29uHhy/jG1FgXLHBbd+FwslEvnrgJFuinPD9bOVWUi6A++9qi5wGZPAHXUm6q70KkAcC1O5tKxGNl5m7Twp5lfTj7YFfTKe4isKroLqTYYs0vVHd/RFAEs5tJXT/y9jTLOZ7jsu7k13WnmKQ62Xm7pNCaiXlFlRlHPaMtja6Emn6EiBJLu/Z7VWAPM843yPOeQ8s/1PGsBmUVDy7+IrlsPO7UH6ZsPxNEhZ3JXR/2HjnRbsQqH2QjfePdJKFX8TdWPjPYgleORd/mwXa4p8eXroU4zyMNUy/Vq78iell5FamEtnKm+B+Eqb/LFYhhXPxd5LkHIJ9c3P0SqzzXLPP1lEMEiAPxPAN+2EM2fAuOpvn2H+4jnMFbjzfawlGG38nyLfJtrHdZ0lEjC/5nHVQEuNvc87PhiCmvadDM3cSDzQM8OPtW6BI2MjoTjLHGOql94+0xcvW3w/iPGn3EgeyxYYf+C4gGcr+lnvS5hWIdyEKxn88at3MK3urswtIPS1Ksc2yxiE6ioBSARVq0UB+r/mowMxviWczOdsS5McuTFOz9e3TSc3YGxMS4fFGJNcz1U2ZM2nfXeH/gD3Q4pKK+wFTGBUo6dQN4/T53gTVHQnfhSK7IfBZEj/88HN8F4o+S8IiuQBzyDidAtiLTjs+vKBNABWfd2Eb5yYINtSXsx3OqAJPv+ac8a3LJhJWTW8JjVGKGQJ0I1XsFsabdkx2CEj+FhFD5OhHyYhpIiNX8VCA4TE7bq+tzibAH0SwFFPu6JifSScB8ZHPwI3Nbfhe3qBpudRCJFS1qAN8xwZSmC6AhI/ZA6yA6sA6TwLmRDV7rhHryVGKEefZXGKOACikC4h7QJtd8jfmeQ8cP99DWPB2rf3zILChf7r6XShMNpEkmYnoc04PJiyJPP16DOdAWNgqzQAk/dj99DA2Rwu+VS3Oc/qbzSz67BYnIVUCiPTw5slL7yi98EUDuvMNB44uIHl6BFcx8KQ906mP4fC8xSZhHPu+JyDeQd8rQJtJu45xmaeMHrtgIK9vWc8rkhn/wXug8Tk/7ZjUEMCkGIK/tIx9yh5grO/bi3vg+PkeZKUyE+wPO+HuXfsuFMOuU7XBunI+lPbYE04lu8iDHz9wCgAeYuhP2v47YH3V16Hg2QuIobb12cDDjJ6aHqctHnRPUiR4CFAucSYGjgGjk+QYMEy1qdbPfI9Ne9SHnE7o811zEekYj+UsgrOLp2c51qkpMG/IAOCnx4EwOKfJQgMa/R2Xv+AMnnbmlJY8ewE5r1Efhqe/9YJ8Yp09y7nHYKfo0X7N+DxfX/mHiXrcG8MtKvRgnzSOzvgxZwUKwLrAz8mI3HjGZU/gLY+cNJRCS2Kc05lstG0BcCrSw6M+fwW0xjmyiZYADdAf3b6ua7g8kWsqlIZ06zOdStINy9U8Fku7z8vDHJOPe3tZfCjY2hLorMAofk4aR53ErwsKFCAeXCAFH/5A6nR2Bezee6BVPm7vMJoAtMfsgdPneyAaTYWDs3xWp8MQIGQGTzzpLL+Bke64kGO8F1RIAbgA7l9tJS1gIJ1HgTRyiJtmCEj/gBdaAeBHY5fGiJktYPBTMHTGtsPItKXIyZBk2ujkEMEJG3rkgcFc8jh/vobR+DnTZb7QNj3Q8nBywqPmtpzFAMZI6tQIFmDWAyWjVsolYwY3JudZZQS+ClCI4YHhyd8E+IVGqZnLQmQeP98TZBgsZdtbu9dXrNAModYRPlsqBww2GuHnfOAeBVW08PCc2GXIa6F07oy8uoTvBTiGs/Nrv+YrwzV7Lve7bYG8omOwV0BDriHurkAOGEbxc7M5SQHnUBNAZp5+ggX/dOJxap73yBYJDeaCLTyN8O+XQIGiUqzz0C5D6xJEIjE1GVbnvQDHxIML3zNtsdBIIiomKLk23wFG3Kqy+cei4rtml8/q5KidgUiGJh2tY03KPJfsiMXkW0ARLQyGio2uwBxS1zJ3k2D5S2wEcvMN/AIeW9DDCaMA2SA8b2IwzUOAnIKBLe1eKOUqxpo3A/u+cYCG4NQHh8GpBju6mDuu9O0nNhztjiKGU/ZYkdDA0IoRPoZu7AGCz3lKLtegQMc4pyoggMIJ2/q5WJya42fPo/6+hwU42UAcNYBPbM4qPcNwAGxOjE7yOBvCiCGARzrL0HksswwRCy0B4leKCKknnni22jQqgzB0D/gnP2EqQklxqrMlVK7WyeZ54Vs5jwH9opB6cOK1kwR4hchgttJNCdNvx8D2STFRputRxBcnxhgrhilHdk4wGhIVjQwd/O6XDA+H0zFiCOP0+d4MXb4LBcO8HPKos47d0xKkUCxYu2pSIp0md6yoD1GVexgifxg1lqPCZIGGAHoEC85+dsFZ0ullAOHx4FAP9wPcBZRYw5OzCUDgws+aTLNQbGjrvbC3OvexIoGBWP9ziIaMf0PC0Yjtu1CB5MxujTXaBkEXNffXhOQkMkYnkt0aNaoofj/5LcvhxREBzB7HD9kDkXRau3VL6PmIp4tAHnbv38NImWRg7f9XRMDzzc862OoGj7BuRFlVfR9pp2K2UU0uQwy1K24WjuBR4gzkovbebi5tiBoIMnsSEE94Og+fevEhfrgcCUdXK3QxLMU04n7Y+SIHMYWTGZszxXTYrHMsXyFX4kg0YLPf5zUEmLbu5C4nFRhKLo6SWemUSHgupfvL1Hg7TVivQOyBE52TGOZKhilV0ZxjE/Nc2y4gnw2hFAKXWlUNlJEp8Ht5zMmxnVD7LhQjmL6KyM46QEiiowfZKM4lqNdy+qnVN0euXJ+nCPVXYPMwSb1YwutVJohROGfipfAmIFo3MimdGmqFjqETnQB3AR6MdN4yO6o0VSD01NKl+F4B8CDKN6VXIGwv6SijBDg+rhoDX6rKkFTLWommGTG0ihmEGTtFsZMypgrwKVYODfGZqC1B2mPUCcPe7IFVAbN86B5o2X29Zg1VQOaSiut/33tYXl/xh5q+sdL27Zu7R4m7ERiWftpwwnngNXvMGSTBzxqJcjizHH1Pi5+Gx7rNqIxttG7HZbvvRab0WIlgigzsArK7cg7NGEMsfxxPf/C3CsxX6x4eo+NgGsYSkIfMKz88aggXwG1deshPvNti0FBegB69Bw50foQ9gLmoCHq0KU+ZcnRPn++NQuPNsvqeExm4URSbsH4DGekGz/B1K2s3bT7Hmz0KSmfGNqq0zzBKnmDfkW3z8XkXYUwx2xM5y0oAN1bQdoxywVA6dy7+uvsJnmMHOfzzUIPDozOf4ToSrC6NmWQswQrLyY67GTAuwOyBgVPNbTlpZOwQkOk60GKnJTjgqZjkn+ByWq4n7QGwJ+dUAeOfBOw/rwUQBIz2Hv3RO7NwKr7N8fwulOzX39TERGFj5lNeATileGjUARoC6Wxj/Q4xRQEC1cIese7PgoK2KWRbYnvdJRJRaLO2Hlt+GabzM6P5xdNLlAUZTALzAZu6RYMCBJh1Vn7BkqcC0u817xjPJbsYR/yCCZBTHmukIYBn+wwjZhoIVAt7xLqf2ePYZsdWYi9iRHvh73v4LhR839Bfrv3gjidk3v2kybI20/1HNkNYWYUDrHbRJr+iaFyMZfZzDeR3whP8KkNg8qj77DqVWoIfm8vnKHkiES2GjmxpOMF4LPFKwa7LuGiT07NTgDwnPMx+ruEiRuk2r7U4RbvS/3MDS3cxSldI+l0r7G1TOowe2WRTLvIIfMVfsj8qlsIkfhtLfg0JzFjpd78PFVt40jJK5Ffm64QFTzZxqnudX4QK8XTnttK5cYXn6TVBFm9Kqulw9MSv8KdgRHLj+xiAgzJNW2HycD7qCkCDfgrdDgGgdmL7VB3/WP95rAsomjUkA1RHGAw5DLZ0SgANDTGkEJauwE/0u4YjnRf9oir4m34CNKObeCGfOPeik2zO6QD3Q6GGZMD5ARhN9uz5HnKAmgkUwGQ6wi+YMAyRnwaO3shMj9gUIr9CLuKVa4sX2xG/BBzxIPAm5iS2CJAMcaoUSqQhgUVS5uj+mxqU6Jz/iOeD/RIJo+g/4lTIRfwRD/1io1E44RTsiOdZMJH99btQuAgvdMQ3Adz7C2fOZ/Iq4FOowOt3oZzv0nuNfvQv4ngV8NErwL31d/6Y9fW7UO51wgXv7373O6z6XYt8rv9VwCdSgTz39AA3HP2LSvh8gJBnse2BdUvxLJyQd52nCHhU7DPWIajGt8Fc1/8sGkjy8PDtb349Xjx4MQ1lCV4sL2bNXEWA/M9SW5xH13kCuft/Tkoscun0E/VRtpR1gUs5nsgP2nM9RcA95nhTg+YO497zZa5SEwmgX6MQI/t+2pCitJfJi6Sarwv42Hvg4P85WSaWxuVyGvJ4Nc9tzrMEPiM/mY80YNQFMO+zz/GmBk1/NSCmVONoLk/xl7wvXAdfAih5+fq7gBeee6l8dKfne83jm6D9S+gf8rtQdtFnvvfv3//j5urOEM7ca6HUbjjsKTY5mVr8XHvNV/w0BHNDGDgfayOkNE/tQ/TDI+OxuY7wnkX8yOK2YmloyA1h4HysjRA2D0zfmPI95s6ZMhf5P9bcQ8Px+/d6OfjdQ/ovTRXp3MA/dv48nXg+bYZ66d1WUeBUey5bhDC2nMx+Vz2ugTKYtNh3rYMmqNRUpZrcqQ6fwtxdg+bL4nPoTnP3XJFoecyp9DSecsQcThpnSIzbDOHmULhTfYBNfrHR2PKwQMQ74Bn1KPs5J0fPMZqRS71oix8kPl/aa17hL/JvtclJY83r5KsGhTvsos1cYpAAecSDvGjEywnPM+qJpMu55yWmiMDh4yF2n8nZzq6dP2JEhd5E1RnbL8PoPZHNr5l7oMAcbbho5h8kjnESRBjehfVYBQqGkMt68AaWI36K7UeXlInOYhPTlYhr8Y8KrBh5aFCDzbcJYDuarxiWvH0kP92wdY8wIqEhWLwBakzwSMMt/6iApkYxnldJHSMBcgqG2Ft5tZfO1tE0nL5/z3D4JIijz4zY+SNSWqnb2Xwo/JDb376BoWy9iNmdJp+wNk+xxXuup9J7rNuqqfFM7x8JfxXAqORBagB4bBqi4T0mTRKb4xPQh/ALHgMgqglQi6FBJfAcwuwOA0mVrViR04DfhroA8uexMRtmskmy6GwV4FvLlc40y7dSTQISV6kkJjn7EvDj0mJ0VCAxnQyjagsPRoYAwgJfBayc9MRFp5Ur3wXfUzneBdz4f84e3X/pMyPwXSj2lQztszrfvHkb34VCJGaI53t5r0tlnYW/4FTTh8zQmXhOo6NmPJ0TAK7EcO37icQSK5cbiYcP9R37fivAA2HPmqGkMwQn17690csXuDCoG+lauN4YlkNt1dFMp9sjY7xLenS59voYjmTz2GZLW6TAFHrFDD9VWCGUpMLqA2akM9+EPgg9l/HLhJ5JQOaqAhSQuVrUrs4vswckhyvV5xvaruyB5TEn+VisnCF9+swIO/HahQT+r7/+4fvv/5JS7LwCz1HL9RhFJzj83alY50kb9W2zVUs/dhVLP20vwWQkfgjgEPzaCgLbUKP1xrerwsMdE0NNwPbu54G09fkCYgieUQFPZ7bPHekGcWC49pNUix2V8VymH2xDwOwvnP2cR4D4gY/3ELcdKefQZxZGtwLCPwQwwqmKTYWu82X2gOlsyyEB4W9LcLoHlr+t+zRg32gdkN+FMqNDQV/meUQ9v1oP6RqG4RqOtBUMorg2q5/MxjMEUK2ndlshcIbdtrv4me7CfJ2SPE0AqS5rHnkpQFcK6aFIJQvBI8r9uueXWIohcjuvgmdGImHLUC4CvJv2WAJiPDUxJVfqQSDGeZyuPsSTp8RmUhZ/LIHOHMcLLBmaF2Bh9wsEu4Clv0WcUAXh6fM9qg9cHvyS7zbG2TWndGx4kk+/hSk7SX4gYW85CyY4sRjtqqMQJSo87s+hUVCNOs9ij91jQ5s7j9hoEMyk9HC1/E6oEDGzAuYfaoFR8wu/nMVwPIaUYntCMtYwwPeJr0PB1paAt76imfj1KD3X9gAqjBQ81rUOnf3O45qVVE7WXH4YMTSqqiGFzBjMEeA+Uwffuvn/oldcMTRWQf3U4o2Oa6y7onflDKINT2bSejimFB1YwmZMUsyXFiFZowFKEveIWc4M70WHHzylJaa53RYMTrVir2xC0iCeG/rynbAtOa/92hmet6RQFxjh5aSxLkH6x1aJcKTe3G0EZgp0T/RsMasAwpyn2LrQMLuOC0wj3SCzvOxKAPzrqiWGQa0IvAT4hcYJ3Z7Zjp/vKaYbtqv6p99qa/oQ0OlnpqM1ph9wEzQuNnKu4RqaY8dmKgUlDM7SyCxndIeAFS8eCmA4ThW9SjH7RdwMgt219eiG4yGkZWyx43VdngD9ukvZJHewpxY5YfNQnY5GndPveKq2pzuyxUZDAgy/EUCYYcaecSc4hZQqZeSQukWAdYeAm3sg7mz94qLz3yUVeyZ81PM9nFTYwTxCrO9mH0o/5898c9ZSgdYlOB++C8DrOi4tA+O0xDm5bJ+26ITnSuwwzKiISUAJ16nCpC6MNvDSI0aRwKAAYaK7F4A7oTQLn/ztwRVugPRrUgUmv5QA4M7s7gWUJThaqVOdyrw3HiWA1QCRDJFq4j47jdJgrsxYBs8q4OGwmWtNJH5hSo72N4aSnjNZ59MieVLlqTVOwu3ZaKlWtgNPO8ckWhdXTg98rs0ZtraiTEg3nWcevSGA4AzHChX8xO/gOUuFSX/cx/YVyKRjdOU3njaIrpqG5CHAqxSYMqMxR61LMBzCmGhNd9lzyEzlzu+csNXk99lpdOWZh24I8HDYR7nopyph5kTHz/cQwMgesP5fSz8Jd9+REjEHKdsYi+K36XlpByaYOv6mzYxxHI8cmG6aSxCFBhS6X+RcgNtMqtQ5qbEpk7/xBCexA5AhziR7ekFCXuNxzmqT2S9SykWnnjc6IbJogmUJfIi2JMmw2KpnxkxLoCEZlFQESD9hLvvUHtU2/kkAZWvU+D94D/TA1DylC/6hKjGef3nMycEN1P+vBR+Vi/+x7rc7+78W+L/I2+M4wfpKe1rYTIFjafJ7rcPZNrc/wkay+PvJmCGpSpWZwtkIY6ITm4HGWQSwy3Ecx/VSLjec7chPSX4Ekt0I4Xxboji1RDNSc5oKkUEeBZQUxc8uMGysZzAPAWtIyeUFVzpF0bjpX0h8Cbz+tQLgl37aTiUZR5rldxIwZNl7Oiw6X2IJwo0GJaLhbO0xZ2mRYFwXbdT+f4Vvbuj3vdmvR6TTppkukMYJPxSjiO0FA6UGIOzuJJ4XyPmPlQ3AMnms3weSynOORBHL8qmaHQlCnU6wiNRNchlqUaZhugSav8HU0l8FpB/AspysVUukIbHBsMAhgPVxmOzE9yXwB/zEYHVQYbVcrO7IcHQHLLTB0wSsayoqN5J2g49F53xbxLwHGp6zK3MMYW1TcUbKldqaQ+K5snEKbfHDSaTtARIPGTP/WAJPx5g4PuLve/q/lgzv18XFn+M+vfTV35pP+Vscq4kjGm2yKV4ATljdeA2g18vDFShChkQX5WsXUeKJLLbm4jxORTtGR9FdgBOSBJ6cFAQPAeYnsB/pR8epih2EY9sdURUBufvHVlbilR9DKbujCkbXPgy7AIeJPzGtAk/ZA04uAdCZ/FPR3JmYZ9sDXIILr34fP99rqtXw/5nrD157XJ3wtY3yHAAAHdBJREFU2Jc3cGKicSMk9kua1h4A+ol0TCmoADC4wBE79j0B4WwAXxsOeaK4cvfdD7+aBESKiVxDSgGP/jREEmKUTrRuJE9d+/Q3bNpDgKZMKgCy1RMv/b3UwpPBeIaATKfQScDJ3SYCmgC/W8K5EhYZgekXIOFXzMkeENgvvnBighqS3V0pLLtTBdI5xEetxhIA4PMyeyzBihHthe9jABbfhYLT7PoPvr8h/iSA0HW2yh0z6YCw282KIZgGZzKDGwB+YUiuFDDwmGSLYZTYaETSJiBz9VgReqLAjC0VuRR4SELy5J/yW97u1+Orgjc9QyEwLs/sCWOxvdRMpuwzz5jgqiE8DeCxhT+GmgA0MhQeZtdRVPB4LP0lVgD4E98nNfOMWWx5lN1JMteonmAiD8xEriFSMYTrmLZopvqH9+bzPXwXSp5Ig+amxbPon8YCHEVwzqym25oVhxhOm0PwON4BsFdM4TnhF9U5hoSu4cgWD5nFr64CJVsYxTJd8a9dUsF/gmcUMZ5RMjB0ntejnAd+dWm0fjQJS8f47XndPtKASAlw/JF9xHPklzIRKh2H4HdDMAXCEIa2chnmxt/32nehKEw5bnpKbnQR4s0Z6KfH7ZsYgK9L8lo485r3URpEe4WHzDq6DDlhrH5NU6NHeI912/GyHUCbQ1f8QDqMga6TlXGMarVmcY/bHu5+2TCU1MFuE0wYbRwdQJtDq+3II4z8MLZ6CJiPx5/XgpRsXrLrtuYgKZ648KzTA/gmhgDnP7ddwBX+65gj/Vv/KmNbK59L4bmJ91i3lVpOUXEIfrUT26NEhcBznWKmUfhL7EUMSVzDke2apeRZNIBNSZHFu6vdhns7/n9O0PGHdMR/gM05e6CoqDil9Amo6yEiKSEFcxQrvxsllszn/EeYR/ldA2xN7cRmyLk20ZZ5HfmPNB/h3X8Ue+RnLEZL87kLc6L/nB8MN2NXAfJIDLO43+0jDUd+j5Udxut3ocz1uHMPnwn/+l0orxXI70Kxs/wFviPiBVKcnz6vAl4r8NErwC06Pd+769d0fCJfQ3HXOZ6f9q8VeK0AK5Dn3rxfxtd0zP6n9nB3zXavFMm///0q4LUCn1IFsEt3f9+Dm88797v4ObxWheegu8XhT8GBZfZ7z7GI2moomLt2P7qAMrv/8nvg4O97LBN3J9cMldLiPcVemel5CufNWAC8cV6rkps8CPlgTNEAKpX3gzkfpedEwKN4AH4ingyaPrtP5LxZwzL9T2APTM/3VIR+Z2j/jf6n+btQ+O4hAs/tW9+Fwlor5VoLDj2jX7lo+GLQfsZcInfOIkAyHHNvuyRVOhkA3NuWBhgq1AvkxbxK8+wvvgeO/77XVeq7UN4+PODnyzjetBF867tQUAj+AMvFZmnuZ5e6Mx2dL2mvMrDq9567T9ALrtQvU4d17hD2MnNHFj/TXma+Xna3I/ty7nExdJyK5ZeNC7YnW6cNZjg90b1tzUWJynrAr/aMNrN4NZhFMtB9GVuzkwB5nnG+R5xrBYBE3peZu0+QebUuPnQnW7lUnPY+Bs5cLoFcRIzOnw3BbdrOwJ0/Ashc+JWIhtLFuy2bDx4eFWiYm3dIvMXjENN4o4lQKcJ9FqsQIE/tTsJEDkau0haeTaxCAFY7tfs7oQBe+EXQjYXnLJbglXPxt1kwO48q8loB6jDOw1jDbOY1a+hlVF6PZUYXJlgMncU6z6ndSba55Gyvc5LFXM2cBXFw/myI8db1xY9dgnfxRTsqNwaZgoDytrd4m1Zn4Bu0F7xkl/dK4T0gzYO3usz8DV+aaysCoit4f1/JoqFvlMAJ0wXorUxk8Vzi1VAsAdg6SXYFdL+cmOBGAN/Z7W/Z9jooWE5b/SbA3nc3kW/ryUkFldd8VKCkU1eGZMBTluDyHlh1dgFbzUpNg1NIu1VAC7ctb+jU3it7jEpQw1GBmb8kX/7GwHFbEgXosyHevPnCvpLBvwtlnJAtiiQ6ioiG/F70cI7TiZgFT2YveoMAjJZvw21FZHOS7opf5h9FD2fvAsXNsfLoTZyBAX5ozrfhjlUExnKRbCpO3POHYHV9a0Yi53HNyD4ElNOPqYsAd4Y9wkNf73pSwNicKmPbiPy+BD4F34hORRLt++TsBRStUtDjURhSovAjdkxBgUzqRyP3eoLtyh5oSaMBjN99BcOJM7CUdNQnBZw+30sQf+uzIezEa+uxfBdKhqkccKTKHMvfmqQAKEdphSfrhan267RiaeTaT0mFAbkIg2oUXUM0BNvGGqYXHZ5sLP1a7hyfClIX6SgdJ27T7xOM+TZmCxwCmJJzGenDSnyrgN3xBooAxuKY+AZIZ41NzBCQyEFbrCfsgc7EpJ7oZfaA7Z9WQAgwDTz/T/bA6fM9UB82DvXzPr8LZcZrr4CkUOXQ2PcEYBniw8hwxFBPnuDWdbsPz+Tk4dCJnTWqAvKhDvyTgCVvP9/olxIZJTXTaVTytO1siHl7BZa8fXXd7zdh95MTqdHotyzdiXssH6DaUBWgIZCoeaLiJ8adW08yIF0rpkp0eQ9c1ema3X7yHoDmKj4npTxjXnDNNTl+vjeiaaHu49UCvL7yP//nl7///d++/fbPBiQAyHi+x1XPGRosr9ACcCx0t+sHJ6BtIVj6+3zoF693cdlbb/pC0nA8POhKALph933JIcM0gsTDHDDzVwElXaOwxtHg7BsRgzypbt2RWvaCIY8qAKqSPQB9CqaimbyLJn6aGpEWO41mCElw5IW/aVMIGcQDg1GK1RLkWtcU6b+isy6BZ3cN8qfOXs9be4AnHhSSoF+O0TGefnLSqURhLI85OYystenEa0Pz6ysFLGQ90SdKpGAW5aJigfJ5y4AJgBDZhucJM/A+BHxpEkC/c6bNxZtoBRYbwGpXbIGLgVjmtak1Abr/E08ME9ldWuvdpw8wMTCMsOcUybYswpclmAWMsyLFdHL8UupiD0RYgJVYpSayCABYgNkeK6UUIk+qFlvaFgMnWvIPZqUmScBYBGB4oRnyDENzqkm4lnOPCXTscfzFTdYmgNddfvjh5/iuWby+winZFiQ81W/mTIDX4sgmUkcXRhtDiqXhGAW6cQLYDpGWDAJwduWmVzDoeqxr4FCs38AQfFQ3pVZs3N6x8HC0U9RzwS5d5nINJJSHXUa57YC0pxPvKIR+hpAww8fvgtGA++WkQSoC3BZMTmLkd0MYd9LeDjmVAVrxs9vOUl0oC37N8qi/7+U51mj0uotxLmdgalrPeItK03cGbO0/jpcunAWfNJNfzmKIzQtEjIbUhVFy2bz6Iwp6lMVJPFYAkVOAYxTrQyu/qICPm0NzFB5hOETCE6dSC++EdFo4Tj9Mn0e4aR9qILmFb0xPB5shcpYu4jW02qyYA0o+sR2VRbE01GUurUjxKwv8+CG5YwR4zN/3cFvT2UXDaJpJwDy0TkxBUu8YOtehIwz9ilrJ6RGhADCck10VayUs+Igd137RKvCcSng3XI94CCCbOOksGFHJD/xRO8FoCLG0aYgqnO16Lz3r89JCothiHPNvUgOsJn5p4FDBCA9DuYqzdEWoFAWg7lEu+WUwpHTPPp8T0An903ff/cO7d9/gVRZl51ft7fwB4dpzMrQtkivXHiXjNr1ikBorqlfAEHiAaZTrEHeD/k5KgGdnVHk6QQDA2YYAOi1RHeKjPgH0ClhSNZHeiMwXJPqowhM5Tu9laMzaC2VZamxytt9i02vx8ggWVJ3EQwSgwUACNBTOXiIOxYJqvBsBe5Y9sNVZ12jazyEBAp6wB/pzPJCgacuFzVO9CiAyMuOw/G2dNdIxcfg9v74y/oy++CElX+eM4jaOddpkdn8kRRE5giPm1gODBzMpToJ73VfNJJ8n3MiFLEMnAmyoqYpAlzqEhdSWRU3p5IEBJ9oKjieQArZcbIFnRt5zPPso1FGuXaJpUagnck3M8WRSeroAqjrKJXQxLMU04v7gnAQc7wHuB1K1mnijNnhEXipAgGCKDc9egA31PZAvpzO6aRCtp6ZdBLRzr6QnQkdpitdX3rx5m6+vjAH9vwu2UnjtsQFRS9ax5/Kqo93TH8wgEMI8HMj4ZwV39iipzZmjdtMQYoBRc3zeeTper7C75rShra93gSWgZQgNGwHKLiNlNFoT3CuQc+nKAU6prF6dIIZNxnTFVSWVmkbiOa9GGK0bEiCDi6WXE1I/pjyJCalVQOYaEuT5sD0Q+6GxSZ6MYPaS9r0UwroAZk8N0D/wZToMENL2wGYhjLZWoCcevy5+H0MLmF9f4VZux50/EqTc6MwHlAktAZy5ur1SAKiatFuMnZMHdptzuQpGXD2YBu7+JoCcVsERRTHqF205F5CMVXSw7GIEzxDgtETCI0M2PEIqdcLGqjuMo4np1c7YvgTip8EUiXGCYUsGXGmPCpzEMkUCHr0HEE4G5U0qOD7yHtAzDimkSBytLX9j4BimMTU8hiw/uEbCw6MP0RPBXtxKmCde+sfmQyiLmEONK+y+ogXgYO17YJDdhxrL3DBqgLH2M8oxY0sBY7Fun2EKM7vJMwRQucAAZBsnlTn7YPJUTPqTI37LabnaEvC5N6FKYes4kVtsi0j8GYbMOkpGeB69BwpP6hn7RAAYzOUeOk3DWIIVVsitJn3ixjNVQFQAzO3K8z18F4p9tdAcf9z7sWuiSh5XNKcUoyh9H3ewAPHIZJxRhSphjYQ2AIVHIQkeCqNwI5aBgpFqK+CxGGlIzi4yeLoAYUTOdfUnwBpaeLCBnHOyxUwDJGphj1j3Z3b4+hqZpwElRmVkeOHH6LYpXPzkFFiAdQk0BDBVnWN2nM2XPE/dA8FfywjyXTt9vtcC/vZB34WSqXJKfZene/zOemnyquDwDPSobxv1tuUBwP3Cu5M2h27aDvCQI8KCkYDi9yoVm0g5PfBRNsClYvD4dM5tn6CoipN6ROujtFcBDFmRq0fkJ/yPwhyloN+FFdsBPnTuVzoTefz/nEC369A/d7CoxcJS3vSXfaPc7ndbABjud/sKxvG0PYrk8gis6XBo9QugIVJd8SudG1d4SK4UR9pO/MjiTUmvcypcsSUduj602mKQsWLgKe0pmDV2JZdH4Js1EUAhILloK93tv+8hDRqT0WYwM4lIAPgLXkMC03C/2w5zv9vErBoUC7Ca23LCcL/IV056Vr+oCs9NPwHKeBMv5KrhSNuR33OtGJ/Imus8FqMevrXBWZqmxvCSlOCnYNbYVYA8AhcZJ36PfZQd4OW1FiZWenWBdtsFKaui6HE87G0rGNICecV/osHDJUYCNKp0j8I8Nq/wEgADGtQu6rmCV64tvxhoFIxkYPSch6NiU+BFvwIlQ4GiwtA9bKUWuVJLzBUMo9bYm36RPzx81p5cvvn87dsv8SH19/6SihdIYVPbmK8CXivwKVQgvwvFzl3I2mzYZ3W9QIpzva8CXivw0SvALTr9jeGu3xPyu9/9DnO+a4rzs+5VwGsFPpEKbM49uL79za/Hk2Y+JibwuWyk+PY3/SR5Ls6LPD3r/ee41QNntlaBLQaA+/mLgLvm4kyP5vK6B6I+t/6+x/Jp2WjYw9T+pJy1vuLXqsC4gn9GDFMrr5iffY5iVi4aEkDjZfJKA1R541K+sIZVwLZW0kz8M2IkgJxifpk6IJ214//nBI5QyrKYZjrLFbuEly4YSpYrnI/FlKTMSJKSncjH8p/jkcLbi+VVUhfwwnOXhhMDBSmrcF5PUj0WUwS8cB18CR7W9xBpSiHri6/+Hf+YWgRH178IZTfe3gD0zXRnKyjVehY0QghAFAtE2FPsIwHwuxjaTKQhN55Fg5NImKYsw2FPsam/JEIW+sX8MnNfZUCAN01fhhQC9hTbs8AmP45ui5+GhtwQBs7H2giJNr3W0jwi0rSb9207PKLhv6t/HhMD51FTOgDcVlE89hntc36OPrueUgTnd/tcGwslqsfWRIFHPHeau+t0DZTBpMW+ax1UcKWmKum8Ux1s7qefz2m42Zwets5D6OWoT6+AVFb54VHTKBnc/1y2tIFQ6WSveYUvOh+lR2Aaa14nXzUo3GEXbeYSgwTIIx7kRSNeTnieUQ+Trik8nUafMe8Rf5kvU6956Vn9nA5JbtoCtP8pYyZzNRMJ0Fzrw+f52RD/gH/zzBOsnTDmb0H5sS5hkifM6eB+Tibe8jRufUVVYqraxY/3jxxiJgU2R4qhAGKYfdUghiVvH3GSI4xIaAjGd6wr6ZGGW/5RAVEhEeeo1ErqGAmQUzAE3sqrFO2NSAoUlVLLcEmJP4tNzOH6Zq5RAc+Vo/I1gxo05MtHp4YYttO86mmzEH7LE6PL/5QxBgEl68NP9tkQ+lzAdoqan8F5BAOacqe7/579/S1PwrDQsRvaTAROv0hGoSMdnmV2j6gUKw8N+G2oCyC/HeEfhIYHB4faUbWON7AMPBMVzco++0HS33uCLGqxG5zft3VLzQ8Lk4B4G04XMPO3yappIoYZAghLfMti/G1Q4UnoU8Z/Sg288U8ClMIAXUBy9pne2gNNXn5iGlO85B5oYnMKlAENrQK8ByxzkQPG6fM9B9pnRrx587l9JYN/F8ocQE04ovE4j3c/3/CqN+8lpqnnG7q00k7il6jZz5n3fZxskwDgxQlAUK14bqDuV0jgEQ55/Hc8hrcu3ziXpR+EnutAT992nEjmqgLm2JExrwJNT8Qi9RhldsW6wXTh6XiObgXMQ603wzjenFg1Coh/VxSsA9ZfwdMEfNAeGHUWMz70IXZ/HQptHZXiebpC5LQEBOUe6zwKwajbsRng037Q6TcE7PbAI57v6bMh7MRrl1L4v/76h++//wsFj6Png71tB+80ZyGadDXOVt3Y4h3g5LBz9/eyMqRgVDsI2N1wugDtBoRLAG3QpnPdNBCGzTQJkHIZGV4FhH9UoOTFaKTu6xrdWof4xJEuQOHKK4NUcep2Ng5tBRSeErtwtt2vu2WJFTjTjTOfyDiOCghfeFJDGy/2y+yBSErxfuK1rZIXoEmYJhLG8fv3ynzmsOzFPQ1XgZYMD0SxLbqnAULBdIXIsD6qu4dqGiF9JRiO6bmhLqk4hKP76VSuMur+eDwzbTuMlkugh5s9tv5j0im5jGmy5PeTIVZ3qqFp2JB4HWIuwvQysi8SXfvkCUDb97zuzP42KM9RruJnxu0xqFoFkIu05C/rIkIa2UUg4Dz2q4+0lXQn/pKLgdf2ADTzArGvbdGALmRYu/58z19rMYLptRa8BoOWtzjUCE31ah1rWcFxYQhlnAwKCgM/PUAkLKJojlJsL3uKosFYOTNFFZD+BnRbgeupEkPYDW1bHIRYdJpARkMUY1sFys0zMQ2YNgX3vcvVjaSNBAUMW2CmGM55N5C2C8jnUTWk95eLVOrpO+ziEkgwaaNbl4BDmggwkQsTxEnL41QoKrkoQNOBkSmqgPQ3rNkVRioBbj36uP58z19rwR/W8Qf3fhLbay3zZwSyRiwujxS3PRIA3X4dOrgqN4Ij8puJPDbSNTa1CG+bj1f99c4MZElNEs97ZCsLDfKQUEMRy93PTex2RzEwjm3PecXQ4drDCKoppHfyF3my5/PypG5PGD1WJ4NUoSsNhVzdrUHBUc+R9HwPJA/Wa4Sk8+y31HL5HBoyGtvNPeCVv6bT8zzi+d7u+09A9bn5ndnsdXrr2hgGVzKtcbt4b+8eZGCUxbZV9yFTMUwBuNhjIDZNPFJvvoA1Abp7cMGEB0DVT3yLkk2j9XeNMjDCEELC7hWIIe6qismtAyS3SK+S8jgnU2wn607qcQFpD/LE8JLfl0nKd/XpihgoeVtJkY6QXoGIaktwtAdEaLGtVhE4FU1IGgJ4BTR0eQ8c6gQVU9Ag83x8xPM9vKby2996NDYZbn0/hd//xQx+/F9LNC5GWRKMcMIQJxuGtDZvYrZ2KZyyOJgp5GEudrfOQiKk87gzNLQtyKvjMiRHM7YkEyIwqgDxR5qLVD640uNzja7hyniCYWoiBVOg/HHRcXc7PbRlPdAJPYB+ihRGFbBEPUgY9GETeYQneA1xAeKRU7Ty0HAeDblztYswRDkmSK4/31NOGf7EkY8241zKx6JnVx1wSBwMtiJOfoI7KAMVzlHEFnzpFnJFrbTy0Fh50tOv/Su+iAEgQwYWniKJHiKFP8J4ihPMyDdbylVii1TBFJ15eb/VEeO0O9ADNReRyCAMXWGKHvkdQ5tKUk+nLPjSLeTi6cG2teShsfK4hzwK8aEjO8DLuacpiSuN5f9XOOCvwfC1lgxwqnXagRoPqAjw58cRjqup39aTOq98nJuTRxS2dQvUq2cOAEVisORVgJ4fJ2zDE+HdPwTFC27Qw1zbV8AM3GFFQIQXSePRncJ9OhRTnnqF+CkwYCLoRvCgvJhL8xCTfxxr50MA2kz1mZ905pDzrPYILPgO7b/KfOuiXHsetc3VnPfcA5Pync6hap4ye7fev9djcGs6eq3F/bz7LXlOSo8hNcK0HcPvJx42E3zNgxZgesYmK4m8C1uNfh/lEDF++jFdbsohgJtSD/Mi3KU2eWpKJw+NY39f1ID5vsdawkcPbTI5RqcQh9ox5zU8tChgZ28EBHgIIG1WZjA75/CGRRnFia77GX5lD8ReF9lUfHLGGnGfdNguUb8IioiYi3vgWOeUV3pcQPu/Fs5WuWlId/e3h5fzd56MB5zmJxrb7tbzPQBz2bjMY/eEf3RJGXrgbGtPbeFHbPutKSTn4dlINh4TTNopY5S+J0oYgrqACG+plRce2YGHzgawWJfN/P2Yy1zwXY9owwCG5z9ihwDHkLTcdSnDs0qYaP3mFsjGjybyCPEKdD76Odnuaos7lgBOpROARvrbvFxA5pqKBqeWIO0JMCcaAjSFkt3wnFevOWEX9gDnNUWRMxiagNM9sDzmZGLIXRTr/1oI0d/xFn+elmA4aeQPTF9R4unnqiicQ+ye2BHbi65YGOR0j5wxNASQnPjVJsMtbX0bMQVDSEW7HCNXE6BXU1dwYNosvMnpemJTTtuuRJHBY+HR9dvBWzv4XUWvLcFJOwkI/n76TZG5LhE7lkB4nxedCt9qU+D68M/xIjE85A0BBOMoAW4zXEPosiaOkQBPQZvhcTw490Dn7PWLUHBbw8/6RSj0200POchDfZZ48mvmBHDyHhL2dGkksmD8coshlkMaPDud8kBAXHq7Y411AUusaDCpse0c5joHOqzM1QUUzQxMzCAXjGzGXzEZO6WVU6X200+jikn+Rr5ey2cxm3u+eIrhiZ5rD+ivPqm55XTbNbj/KXvAOYuAeY4OXP62jsG5lLjPQ7vHXLPju1B8brfC2qKiUSvBVJJ6cGXaFPEKZk2dnD6y5zdEV2ie1byCaVFbAazASppzrPt+h7yNYZTvCXri9Ov194UzqZvZpbYWGJybMq65VuXh6fzEpyqXtCEHzDXE49IWcrPZvITd82uYD/WtO0yb46ZKAzes3X2Puruyvz08/PDw8JfH/+S/QasuI2lY7j+yPQQYNhnoKtBXi/6ODoxsGT5HEopWhvMIo0TwHNnMsuVxAdc5FUVJR3nh19C5hq22o9gjv4sBRt0TPFXpeFLDQsIQyZahpE5VwMTQ6UfXTELRyvBYYaQNnsfaJmC575GLstpZ/s/jCq1MHGWX4jxKfncmoaUOs2COYuVXvBMWm+ASssWQzTU4f+ER4RaPwK1fToSXpqGj2OI/wru/aGZGB7gG+NWKfcTj+IJhF4DiZwg1KNwNl3fFVmzR7P4jDSuGHs+7YsrUANjii/8Ik/yn/1OGlGplMuoKwEzqllj5i+E8z2Uzxbke1eVIp8SsPBq6OJcCU9d53BYAhvuv2Eex7pcNQrViH9XHNTB2rc9RLPzb5pzPZXsi55RfzlX/FYzCBabhftjFOVfg9DMjGOkBtJkAo9TtTg2tsfTo6LH3sFUFylNeGe6XgBP9wpDBuxdtpXbjYqyEPQWvvCIRbZnUkb/A0CVyxW9zybnySBKG7mevAuRR0itzuagfnGpuh/MzPrl8++Uv8YHtr9+FokLdyXiBIp8rfxXwKVQgvwvF1gqyrHcX8wVSnOt+FfBagY9eAW7Rft/77n//2/mWfR19rcBrBZ6xAvhOjn7uNVI8zEXjo95mvdr5XPm1Jq/74dn3wM8/5f9S84kgE9BGuf1J56vN/fdah9c6PMseePP5/wOQIcRwCZMrfwAAAABJRU5ErkJggg==)"
      ],
      "metadata": {
        "id": "tIKdisA6721V"
      }
    },
    {
      "cell_type": "markdown",
      "source": [
        "##Diccionarios:\n",
        "\n",
        "$$\\text{\\{key : values\\}.}$$"
      ],
      "metadata": {
        "id": "hg5S2zGb8AgV"
      }
    },
    {
      "cell_type": "code",
      "execution_count": 29,
      "metadata": {
        "id": "hdn3ownVseCj"
      },
      "outputs": [],
      "source": [
        "#Creamos un diccionario\n",
        "d={\"Jazmin\":[\"Masha\", \"Nala\", \"Leo\"],\n",
        "   \"Teresa\":[3,10,12],\n",
        "   \"Lea\":[3.2,4.0,7.0]}"
      ]
    },
    {
      "cell_type": "code",
      "source": [
        "type(d)"
      ],
      "metadata": {
        "colab": {
          "base_uri": "https://localhost:8080/"
        },
        "id": "by28emUm9-ZR",
        "outputId": "4b70fe80-59d3-41dc-a076-c19ef78204c4"
      },
      "execution_count": 30,
      "outputs": [
        {
          "output_type": "execute_result",
          "data": {
            "text/plain": [
              "dict"
            ]
          },
          "metadata": {},
          "execution_count": 30
        }
      ]
    },
    {
      "cell_type": "code",
      "source": [
        "d.keys() #llaves de un diccionario"
      ],
      "metadata": {
        "colab": {
          "base_uri": "https://localhost:8080/"
        },
        "id": "_7d__BBQ-nYc",
        "outputId": "0b9d9e19-8439-4c41-e205-f8669b4a6206"
      },
      "execution_count": 31,
      "outputs": [
        {
          "output_type": "execute_result",
          "data": {
            "text/plain": [
              "dict_keys(['Jazmin', 'Teresa', 'Lea'])"
            ]
          },
          "metadata": {},
          "execution_count": 31
        }
      ]
    },
    {
      "cell_type": "code",
      "source": [
        "d.values() #valores de un diccionario"
      ],
      "metadata": {
        "colab": {
          "base_uri": "https://localhost:8080/"
        },
        "id": "vI7pwGXS-yWA",
        "outputId": "0ed161fa-9b02-463b-82da-47ce37f46aec"
      },
      "execution_count": 32,
      "outputs": [
        {
          "output_type": "execute_result",
          "data": {
            "text/plain": [
              "dict_values([['Masha', 'Nala', 'Leo'], [3, 10, 12], [3.2, 4.0, 7.0]])"
            ]
          },
          "metadata": {},
          "execution_count": 32
        }
      ]
    },
    {
      "cell_type": "code",
      "source": [
        "d.items()"
      ],
      "metadata": {
        "colab": {
          "base_uri": "https://localhost:8080/"
        },
        "id": "au18W_5i-4WY",
        "outputId": "1a91143a-a642-43fb-9440-a3a1c687f5b8"
      },
      "execution_count": 33,
      "outputs": [
        {
          "output_type": "execute_result",
          "data": {
            "text/plain": [
              "dict_items([('Jazmin', ['Masha', 'Nala', 'Leo']), ('Teresa', [3, 10, 12]), ('Lea', [3.2, 4.0, 7.0])])"
            ]
          },
          "metadata": {},
          "execution_count": 33
        }
      ]
    },
    {
      "cell_type": "markdown",
      "source": [
        "##Se lanzan dos dados\n",
        "\n",
        "- $\\Omega = \\{1,2,3,4,5,6\\}\\times\\{1,2,3,4,5,6\\}$\n",
        "- $\\mathscr{F}=p(\\Omega)$\n",
        "- Para $\\Omega=(1,j)$ donde $ i,j = 1,2, ... , 6$\n",
        "$$\\mathbb{P}(\\{\\omega\\})=\\frac{1}{36}$$\n",
        "\n",
        "---\n",
        "##Vamos a definir a la siguiente variable aleatoria:\n",
        "\n",
        "$S$ es la variable aleatoria que cuenta la suma de las caras de los dados.\n",
        "\n",
        "$$S:\\Omega \\to \\mathbb{R}_{X}=\\{2,3,4,5,6,7,8,9,10,11,12\\}$$"
      ],
      "metadata": {
        "id": "q4C2wWs9_1zA"
      }
    },
    {
      "cell_type": "markdown",
      "source": [
        "Para entender a la ley de la variable aleatoria,  basta con entender a los siguientes datos:\n",
        "\n",
        "$$\\{(k,\\mathbb{P}(S = k))\\}_{k\\in \\mathbb{R}_{S}}$$"
      ],
      "metadata": {
        "id": "rLWiQ4CXC4SI"
      }
    },
    {
      "cell_type": "markdown",
      "source": [
        "Veamos a $S$ como eventos. Sea $S_{n}$ el evento de la suma de las caras en $n$."
      ],
      "metadata": {
        "id": "7hy0L_yWD6t8"
      }
    },
    {
      "cell_type": "code",
      "source": [
        "from itertools import product\n",
        "from fractions import Fraction"
      ],
      "metadata": {
        "id": "kAhDYKrqEJj8"
      },
      "execution_count": 34,
      "outputs": []
    },
    {
      "cell_type": "code",
      "source": [
        "#Definimos la función P\n",
        "def P(A, Omega):\n",
        "  P=Fraction(len(A),len(Omega))\n",
        "  return P"
      ],
      "metadata": {
        "id": "b-NxjUnlEVD5"
      },
      "execution_count": 35,
      "outputs": []
    },
    {
      "cell_type": "markdown",
      "source": [
        "$$S_{n}=\\{ (i,j)\\in \\Omega : i+j = n\\}$$"
      ],
      "metadata": {
        "id": "hC0wxFTuEmam"
      }
    },
    {
      "cell_type": "code",
      "source": [
        "#El evento de la suma de las caras de los dados sea igual a 2\n",
        "S_2= {(i,j) for i in range(1,7) for j in range(1,7) if i+j==2}\n",
        "S_2"
      ],
      "metadata": {
        "colab": {
          "base_uri": "https://localhost:8080/"
        },
        "id": "DK9L3QM_ElXq",
        "outputId": "6fa29171-2896-4d25-9a9c-fdae061a713d"
      },
      "execution_count": 36,
      "outputs": [
        {
          "output_type": "execute_result",
          "data": {
            "text/plain": [
              "{(1, 1)}"
            ]
          },
          "metadata": {},
          "execution_count": 36
        }
      ]
    },
    {
      "cell_type": "code",
      "source": [
        "#Construimos a nuestro universo Omega\n",
        "L=[i for i in range(1,7)]\n",
        "Omega = set(product(L,repeat=2))\n",
        "Omega"
      ],
      "metadata": {
        "colab": {
          "base_uri": "https://localhost:8080/"
        },
        "id": "F_oyartjFpSG",
        "outputId": "fc5ecda5-8e3a-4617-b7cf-8bbb253d907a"
      },
      "execution_count": 37,
      "outputs": [
        {
          "output_type": "execute_result",
          "data": {
            "text/plain": [
              "{(1, 1),\n",
              " (1, 2),\n",
              " (1, 3),\n",
              " (1, 4),\n",
              " (1, 5),\n",
              " (1, 6),\n",
              " (2, 1),\n",
              " (2, 2),\n",
              " (2, 3),\n",
              " (2, 4),\n",
              " (2, 5),\n",
              " (2, 6),\n",
              " (3, 1),\n",
              " (3, 2),\n",
              " (3, 3),\n",
              " (3, 4),\n",
              " (3, 5),\n",
              " (3, 6),\n",
              " (4, 1),\n",
              " (4, 2),\n",
              " (4, 3),\n",
              " (4, 4),\n",
              " (4, 5),\n",
              " (4, 6),\n",
              " (5, 1),\n",
              " (5, 2),\n",
              " (5, 3),\n",
              " (5, 4),\n",
              " (5, 5),\n",
              " (5, 6),\n",
              " (6, 1),\n",
              " (6, 2),\n",
              " (6, 3),\n",
              " (6, 4),\n",
              " (6, 5),\n",
              " (6, 6)}"
            ]
          },
          "metadata": {},
          "execution_count": 37
        }
      ]
    },
    {
      "cell_type": "code",
      "source": [
        "#Vemos todas las posibles eventos en omega\n",
        "S={(i,j): i+j for i,j in Omega}\n",
        "S"
      ],
      "metadata": {
        "colab": {
          "base_uri": "https://localhost:8080/"
        },
        "id": "7dnN1dA_GPtP",
        "outputId": "91bf000a-a0e7-475a-f5ce-86b83f4e54b4"
      },
      "execution_count": 38,
      "outputs": [
        {
          "output_type": "execute_result",
          "data": {
            "text/plain": [
              "{(3, 4): 7,\n",
              " (4, 3): 7,\n",
              " (3, 1): 4,\n",
              " (5, 4): 9,\n",
              " (4, 6): 10,\n",
              " (5, 1): 6,\n",
              " (2, 2): 4,\n",
              " (1, 6): 7,\n",
              " (2, 5): 7,\n",
              " (1, 3): 4,\n",
              " (6, 2): 8,\n",
              " (6, 5): 11,\n",
              " (4, 2): 6,\n",
              " (4, 5): 9,\n",
              " (3, 3): 6,\n",
              " (5, 6): 11,\n",
              " (3, 6): 9,\n",
              " (5, 3): 8,\n",
              " (2, 4): 6,\n",
              " (1, 2): 3,\n",
              " (2, 1): 3,\n",
              " (1, 5): 6,\n",
              " (6, 1): 7,\n",
              " (6, 4): 10,\n",
              " (3, 2): 5,\n",
              " (4, 1): 5,\n",
              " (3, 5): 8,\n",
              " (5, 2): 7,\n",
              " (4, 4): 8,\n",
              " (5, 5): 10,\n",
              " (1, 1): 2,\n",
              " (1, 4): 5,\n",
              " (2, 3): 5,\n",
              " (2, 6): 8,\n",
              " (6, 6): 12,\n",
              " (6, 3): 9}"
            ]
          },
          "metadata": {},
          "execution_count": 38
        }
      ]
    },
    {
      "cell_type": "code",
      "source": [
        "from collections import defaultdict\n",
        "#Crea el diccionario y te lo regresa de una forma resumida\n",
        "dS=defaultdict(set)\n",
        "dS"
      ],
      "metadata": {
        "colab": {
          "base_uri": "https://localhost:8080/"
        },
        "id": "eBoOoflJHK_C",
        "outputId": "625bbe6e-1a0e-404a-fcfc-2d1c16f02245"
      },
      "execution_count": 39,
      "outputs": [
        {
          "output_type": "execute_result",
          "data": {
            "text/plain": [
              "defaultdict(set, {})"
            ]
          },
          "metadata": {},
          "execution_count": 39
        }
      ]
    },
    {
      "cell_type": "code",
      "source": [
        "#l son las llaves del diccionario\n",
        "#v son los valores del diccionario\n",
        "for l,v in S.items():\n",
        "  print(l)"
      ],
      "metadata": {
        "colab": {
          "base_uri": "https://localhost:8080/"
        },
        "id": "Osj4aYMkH68o",
        "outputId": "5172566d-a0f7-4256-c85f-f3aa9ffebba9"
      },
      "execution_count": 40,
      "outputs": [
        {
          "output_type": "stream",
          "name": "stdout",
          "text": [
            "(3, 4)\n",
            "(4, 3)\n",
            "(3, 1)\n",
            "(5, 4)\n",
            "(4, 6)\n",
            "(5, 1)\n",
            "(2, 2)\n",
            "(1, 6)\n",
            "(2, 5)\n",
            "(1, 3)\n",
            "(6, 2)\n",
            "(6, 5)\n",
            "(4, 2)\n",
            "(4, 5)\n",
            "(3, 3)\n",
            "(5, 6)\n",
            "(3, 6)\n",
            "(5, 3)\n",
            "(2, 4)\n",
            "(1, 2)\n",
            "(2, 1)\n",
            "(1, 5)\n",
            "(6, 1)\n",
            "(6, 4)\n",
            "(3, 2)\n",
            "(4, 1)\n",
            "(3, 5)\n",
            "(5, 2)\n",
            "(4, 4)\n",
            "(5, 5)\n",
            "(1, 1)\n",
            "(1, 4)\n",
            "(2, 3)\n",
            "(2, 6)\n",
            "(6, 6)\n",
            "(6, 3)\n"
          ]
        }
      ]
    },
    {
      "cell_type": "code",
      "source": [
        "#Añadimos valores a dS\n",
        "for l, v in S.items():\n",
        "  dS[v].add(l)"
      ],
      "metadata": {
        "id": "5JVZaKXfWS0g"
      },
      "execution_count": 41,
      "outputs": []
    },
    {
      "cell_type": "code",
      "source": [
        "#Vemos que eventos nos generan cada una de las posibles sumas\n",
        "dS"
      ],
      "metadata": {
        "colab": {
          "base_uri": "https://localhost:8080/"
        },
        "id": "MKgfGEF6I26u",
        "outputId": "99126148-58a6-4e17-c527-80e9891b2106"
      },
      "execution_count": 42,
      "outputs": [
        {
          "output_type": "execute_result",
          "data": {
            "text/plain": [
              "defaultdict(set,\n",
              "            {7: {(1, 6), (2, 5), (3, 4), (4, 3), (5, 2), (6, 1)},\n",
              "             4: {(1, 3), (2, 2), (3, 1)},\n",
              "             9: {(3, 6), (4, 5), (5, 4), (6, 3)},\n",
              "             10: {(4, 6), (5, 5), (6, 4)},\n",
              "             6: {(1, 5), (2, 4), (3, 3), (4, 2), (5, 1)},\n",
              "             8: {(2, 6), (3, 5), (4, 4), (5, 3), (6, 2)},\n",
              "             11: {(5, 6), (6, 5)},\n",
              "             3: {(1, 2), (2, 1)},\n",
              "             5: {(1, 4), (2, 3), (3, 2), (4, 1)},\n",
              "             2: {(1, 1)},\n",
              "             12: {(6, 6)}})"
            ]
          },
          "metadata": {},
          "execution_count": 42
        }
      ]
    },
    {
      "cell_type": "code",
      "source": [
        "#Vemos cual es la probabilidad de cada una de las posibles sumas\n",
        "leyS={k : P(A,Omega) for k, A in dS.items()}\n",
        "leyS"
      ],
      "metadata": {
        "colab": {
          "base_uri": "https://localhost:8080/"
        },
        "id": "4NYQTZ44JhNm",
        "outputId": "b989a62d-a9bb-4bc8-b012-d15c26a80c7d"
      },
      "execution_count": 43,
      "outputs": [
        {
          "output_type": "execute_result",
          "data": {
            "text/plain": [
              "{7: Fraction(1, 6),\n",
              " 4: Fraction(1, 12),\n",
              " 9: Fraction(1, 9),\n",
              " 10: Fraction(1, 12),\n",
              " 6: Fraction(5, 36),\n",
              " 8: Fraction(5, 36),\n",
              " 11: Fraction(1, 18),\n",
              " 3: Fraction(1, 18),\n",
              " 5: Fraction(1, 9),\n",
              " 2: Fraction(1, 36),\n",
              " 12: Fraction(1, 36)}"
            ]
          },
          "metadata": {},
          "execution_count": 43
        }
      ]
    },
    {
      "cell_type": "markdown",
      "source": [
        "##Introducción a pandas."
      ],
      "metadata": {
        "id": "iJcnKuFDJ84p"
      }
    },
    {
      "cell_type": "code",
      "source": [
        "import pandas as pd"
      ],
      "metadata": {
        "id": "-f0twnKTKAyI"
      },
      "execution_count": 44,
      "outputs": []
    },
    {
      "cell_type": "code",
      "source": [
        "#Utilizamos la función Series de pandas la cual nos muestra a probabilidad de cada una de las posibles sumas de una forma más sintetizada\n",
        "leyS=pd.Series(leyS)\n",
        "leyS=leyS.sort_index()"
      ],
      "metadata": {
        "id": "pf9mC6jsKq2Y"
      },
      "execution_count": 45,
      "outputs": []
    },
    {
      "cell_type": "code",
      "source": [
        "leyS"
      ],
      "metadata": {
        "colab": {
          "base_uri": "https://localhost:8080/"
        },
        "id": "Md4JMq7YMGGB",
        "outputId": "29feb29a-0eb4-4154-8cca-28848833c296"
      },
      "execution_count": 46,
      "outputs": [
        {
          "output_type": "execute_result",
          "data": {
            "text/plain": [
              "2     1/36\n",
              "3     1/18\n",
              "4     1/12\n",
              "5      1/9\n",
              "6     5/36\n",
              "7      1/6\n",
              "8     5/36\n",
              "9      1/9\n",
              "10    1/12\n",
              "11    1/18\n",
              "12    1/36\n",
              "dtype: object"
            ]
          },
          "metadata": {},
          "execution_count": 46
        }
      ]
    },
    {
      "cell_type": "markdown",
      "source": [
        "### Ejercicios:\n",
        "1.- Documenta tu colab.\n",
        "\n",
        "2.- Calcula la ley de las siguientes variables aleatorias:\n",
        "\n",
        "1.          - La diferencia de las caras sea mayor que $1$.\n",
        "\n",
        "    - La suma de las caras sea par.\n",
        "\n",
        "3.- Verifica, en cada caso, que $$\\sum_{k\\in R_{X}}\\mathbb{P}(X=x)=1.$$\n",
        "\n",
        "4.- Sube tu notebook a tu GitHub."
      ],
      "metadata": {
        "id": "2xL2ifk3X1-I"
      }
    },
    {
      "cell_type": "markdown",
      "source": [
        "### **Ejercicio 1** - Probabilidad de que la diferencia de las caras sea mayor que $1$."
      ],
      "metadata": {
        "id": "MA3MkTjmtAp1"
      }
    },
    {
      "cell_type": "code",
      "source": [
        "#Creando el primer diccionario para obtener su probabilidad\n",
        "#La diferencia de las caras sea mayor que 1\n",
        "d1 = {(i,j) : abs(i-j) for i,j in Omega if abs(i-j)>1}\n",
        "d1"
      ],
      "metadata": {
        "colab": {
          "base_uri": "https://localhost:8080/"
        },
        "id": "Kozi5VeRtCws",
        "outputId": "9f7c5d97-5d6d-43d7-9abe-c0d5fa77358d"
      },
      "execution_count": 47,
      "outputs": [
        {
          "output_type": "execute_result",
          "data": {
            "text/plain": [
              "{(3, 1): 2,\n",
              " (4, 6): 2,\n",
              " (5, 1): 4,\n",
              " (1, 6): 5,\n",
              " (2, 5): 3,\n",
              " (1, 3): 2,\n",
              " (6, 2): 4,\n",
              " (4, 2): 2,\n",
              " (3, 6): 3,\n",
              " (5, 3): 2,\n",
              " (2, 4): 2,\n",
              " (1, 5): 4,\n",
              " (6, 1): 5,\n",
              " (6, 4): 2,\n",
              " (4, 1): 3,\n",
              " (3, 5): 2,\n",
              " (5, 2): 3,\n",
              " (1, 4): 3,\n",
              " (2, 6): 4,\n",
              " (6, 3): 3}"
            ]
          },
          "metadata": {},
          "execution_count": 47
        }
      ]
    },
    {
      "cell_type": "code",
      "source": [
        "# Creando un nuevo conjunto manipulable\n",
        "Dd1 = defaultdict(set)\n",
        "Dd1"
      ],
      "metadata": {
        "colab": {
          "base_uri": "https://localhost:8080/"
        },
        "id": "A1-ljoFqEpdE",
        "outputId": "98509d97-e2ab-451f-fee9-fb3c6785ea40"
      },
      "execution_count": 48,
      "outputs": [
        {
          "output_type": "execute_result",
          "data": {
            "text/plain": [
              "defaultdict(set, {})"
            ]
          },
          "metadata": {},
          "execution_count": 48
        }
      ]
    },
    {
      "cell_type": "code",
      "source": [
        "# Invirtiendo diccionarios y juntando\n",
        "for l, v in d1.items():\n",
        "  Dd1[v].add(l)\n",
        "Dd1"
      ],
      "metadata": {
        "colab": {
          "base_uri": "https://localhost:8080/"
        },
        "id": "sXyL9a4bExzO",
        "outputId": "ab2c2567-6816-410c-9053-ecf027216e34"
      },
      "execution_count": 49,
      "outputs": [
        {
          "output_type": "execute_result",
          "data": {
            "text/plain": [
              "defaultdict(set,\n",
              "            {2: {(1, 3),\n",
              "              (2, 4),\n",
              "              (3, 1),\n",
              "              (3, 5),\n",
              "              (4, 2),\n",
              "              (4, 6),\n",
              "              (5, 3),\n",
              "              (6, 4)},\n",
              "             4: {(1, 5), (2, 6), (5, 1), (6, 2)},\n",
              "             5: {(1, 6), (6, 1)},\n",
              "             3: {(1, 4), (2, 5), (3, 6), (4, 1), (5, 2), (6, 3)}})"
            ]
          },
          "metadata": {},
          "execution_count": 49
        }
      ]
    },
    {
      "cell_type": "code",
      "source": [
        "#Obtenemos la ley de probabilidad\n",
        "leyd1 = {k : P(A,Omega) for k , A in Dd1.items() }\n",
        "leyd1"
      ],
      "metadata": {
        "colab": {
          "base_uri": "https://localhost:8080/"
        },
        "id": "R1OQ4-xIFO98",
        "outputId": "b5b3f982-2529-42ca-e076-9076a1dfd6aa"
      },
      "execution_count": 50,
      "outputs": [
        {
          "output_type": "execute_result",
          "data": {
            "text/plain": [
              "{2: Fraction(2, 9), 4: Fraction(1, 9), 5: Fraction(1, 18), 3: Fraction(1, 6)}"
            ]
          },
          "metadata": {},
          "execution_count": 50
        }
      ]
    },
    {
      "cell_type": "code",
      "source": [
        "#Utilizando pandas\n",
        "leyd1S = pd.Series(leyd1)\n",
        "leyd1S = leyd1S.sort_index()\n",
        "leyd1S"
      ],
      "metadata": {
        "colab": {
          "base_uri": "https://localhost:8080/"
        },
        "id": "IBwfAh2iFdxC",
        "outputId": "5f76c641-9798-4498-bd99-321422a24f20"
      },
      "execution_count": 51,
      "outputs": [
        {
          "output_type": "execute_result",
          "data": {
            "text/plain": [
              "2     2/9\n",
              "3     1/6\n",
              "4     1/9\n",
              "5    1/18\n",
              "dtype: object"
            ]
          },
          "metadata": {},
          "execution_count": 51
        }
      ]
    },
    {
      "cell_type": "markdown",
      "source": [
        "En la línea anteriror obtuvimos la probabilidad de de que la suma sea 2, 3, 4 y 5.\n",
        "Para poder obtener la probabilidad de la suma mayor que 1, sumemos las probabilidad; pues tenemos eventos mutuamente excluyentes.\n",
        "\n",
        "---\n",
        "~~~\n",
        "Dos eventos A y B son mutuamente excluyentes si no pueden ocurrir al mismo tiempo, es decir, si no tienen elementos comunes.\n",
        "~~~\n",
        "---"
      ],
      "metadata": {
        "id": "SBl7R6gZFsZi"
      }
    },
    {
      "cell_type": "code",
      "source": [
        "P1 = sum(leyd1S)\n",
        "P1"
      ],
      "metadata": {
        "colab": {
          "base_uri": "https://localhost:8080/"
        },
        "id": "eyZhJfWTFxLz",
        "outputId": "5e721e56-3c1a-41a2-9c6e-e2a21bd42eb9"
      },
      "execution_count": 52,
      "outputs": [
        {
          "output_type": "execute_result",
          "data": {
            "text/plain": [
              "Fraction(5, 9)"
            ]
          },
          "metadata": {},
          "execution_count": 52
        }
      ]
    },
    {
      "cell_type": "markdown",
      "source": [
        "Por lo que la probabilidad de obtener un número cuya suma sea mayor a 1 será:\n",
        "$$ \\mathbb{P} (X=x | x>1) = \\frac{5}{9} $$"
      ],
      "metadata": {
        "id": "hLT2TMr5GBcr"
      }
    },
    {
      "cell_type": "markdown",
      "source": [
        "#### Comprobando:\n",
        "\n",
        "$$\\sum_{k\\in R_{X}}\\mathbb{P}(X=x)=1.$$\n",
        "\n",
        "Podemos hacer 2 procedimientos:\n",
        "1. Obtenemos el complemento y lo sumamos al resultado obtenido.\n",
        "2. Obtenemos la suma sin restricciones."
      ],
      "metadata": {
        "id": "skqmr-mZGHQB"
      }
    },
    {
      "cell_type": "markdown",
      "source": [
        "##### Forma 1: Sumando el complemento"
      ],
      "metadata": {
        "id": "hlnIrOPtCODZ"
      }
    },
    {
      "cell_type": "markdown",
      "source": [
        "##### Forma 1: Sumando el complemento"
      ],
      "metadata": {
        "id": "MN57M-8QGgBk"
      }
    },
    {
      "cell_type": "code",
      "source": [
        "E_1_C = {(i,j) : abs(i-j) for i,j in Omega if abs(i-j)<=1}\n",
        "E_1_C"
      ],
      "metadata": {
        "colab": {
          "base_uri": "https://localhost:8080/"
        },
        "id": "ZcFHw6Rg3fer",
        "outputId": "86150687-247e-409e-9209-885168e76a8f"
      },
      "execution_count": 53,
      "outputs": [
        {
          "output_type": "execute_result",
          "data": {
            "text/plain": [
              "{(3, 4): 1,\n",
              " (4, 3): 1,\n",
              " (5, 4): 1,\n",
              " (2, 2): 0,\n",
              " (6, 5): 1,\n",
              " (4, 5): 1,\n",
              " (3, 3): 0,\n",
              " (5, 6): 1,\n",
              " (1, 2): 1,\n",
              " (2, 1): 1,\n",
              " (3, 2): 1,\n",
              " (4, 4): 0,\n",
              " (5, 5): 0,\n",
              " (1, 1): 0,\n",
              " (2, 3): 1,\n",
              " (6, 6): 0}"
            ]
          },
          "metadata": {},
          "execution_count": 53
        }
      ]
    },
    {
      "cell_type": "code",
      "source": [
        "# Creando un nuevo conjunto manipulable\n",
        "dE_1_C = defaultdict(set)\n",
        "# Invirtiendo diccionarios y juntando\n",
        "for l, v in E_1_C.items():\n",
        "  dE_1_C[v].add(l)\n",
        "dE_1_C"
      ],
      "metadata": {
        "colab": {
          "base_uri": "https://localhost:8080/"
        },
        "id": "xjoR0i1SDQ7B",
        "outputId": "bff3ceaf-7be7-4b2a-df9f-dec28cb45d8e"
      },
      "execution_count": 54,
      "outputs": [
        {
          "output_type": "execute_result",
          "data": {
            "text/plain": [
              "defaultdict(set,\n",
              "            {1: {(1, 2),\n",
              "              (2, 1),\n",
              "              (2, 3),\n",
              "              (3, 2),\n",
              "              (3, 4),\n",
              "              (4, 3),\n",
              "              (4, 5),\n",
              "              (5, 4),\n",
              "              (5, 6),\n",
              "              (6, 5)},\n",
              "             0: {(1, 1), (2, 2), (3, 3), (4, 4), (5, 5), (6, 6)}})"
            ]
          },
          "metadata": {},
          "execution_count": 54
        }
      ]
    },
    {
      "cell_type": "code",
      "source": [
        "leyE_1_C = {k : P(A,Omega) for k , A in dE_1_C.items() }\n",
        "leyE_1_C"
      ],
      "metadata": {
        "colab": {
          "base_uri": "https://localhost:8080/"
        },
        "id": "ZV4SXQ5BDQ3c",
        "outputId": "783a10d7-385b-4d78-9808-414608744cbb"
      },
      "execution_count": 55,
      "outputs": [
        {
          "output_type": "execute_result",
          "data": {
            "text/plain": [
              "{1: Fraction(5, 18), 0: Fraction(1, 6)}"
            ]
          },
          "metadata": {},
          "execution_count": 55
        }
      ]
    },
    {
      "cell_type": "code",
      "source": [
        "leyE_1_CS = pd.Series(leyE_1_C)\n",
        "leyE_1_CS = leyE_1_CS.sort_index()\n",
        "leyE_1_CS"
      ],
      "metadata": {
        "colab": {
          "base_uri": "https://localhost:8080/"
        },
        "id": "ouMTjt83DQuJ",
        "outputId": "208a8b02-f255-4d9b-b953-38cfc6717d8e"
      },
      "execution_count": 56,
      "outputs": [
        {
          "output_type": "execute_result",
          "data": {
            "text/plain": [
              "0     1/6\n",
              "1    5/18\n",
              "dtype: object"
            ]
          },
          "metadata": {},
          "execution_count": 56
        }
      ]
    },
    {
      "cell_type": "code",
      "source": [
        "P1_C = sum(leyE_1_CS)\n",
        "P1_C"
      ],
      "metadata": {
        "colab": {
          "base_uri": "https://localhost:8080/"
        },
        "id": "mmArTrXID9kR",
        "outputId": "bcc74e26-9c93-434e-c40c-59848dd6286b"
      },
      "execution_count": 57,
      "outputs": [
        {
          "output_type": "execute_result",
          "data": {
            "text/plain": [
              "Fraction(4, 9)"
            ]
          },
          "metadata": {},
          "execution_count": 57
        }
      ]
    },
    {
      "cell_type": "markdown",
      "source": [
        "La probabilidad del complemento es:\n",
        "$$ \\mathbb{P} (X=x | x>1) = \\frac{4}{9}  \\approx{.444} $$"
      ],
      "metadata": {
        "id": "_fl0D7QoHJiB"
      }
    },
    {
      "cell_type": "markdown",
      "source": [
        "Entonces, sumando las probabilidades:\n",
        "$$ \\sum_{k\\in R_{X}}\\mathbb{P}(X=x) = \\mathbb{P} (X=x | x \\leq 1) + \\mathbb{P} (X=x | x > 1 ) = \\frac{4}{9} + \\frac{5}{9} = \\frac{9}{9} =  1$$"
      ],
      "metadata": {
        "id": "t44ww49EDPhH"
      }
    },
    {
      "cell_type": "code",
      "source": [
        "P1 + P1_C"
      ],
      "metadata": {
        "colab": {
          "base_uri": "https://localhost:8080/"
        },
        "id": "AB_JQuUbGaGW",
        "outputId": "8800eb8e-2e28-4519-bc6e-56ebfd5959c8"
      },
      "execution_count": 58,
      "outputs": [
        {
          "output_type": "execute_result",
          "data": {
            "text/plain": [
              "Fraction(1, 1)"
            ]
          },
          "metadata": {},
          "execution_count": 58
        }
      ]
    },
    {
      "cell_type": "markdown",
      "source": [
        "##### Forma 2: Sin restricciones"
      ],
      "metadata": {
        "id": "gBU40XBtFX6Y"
      }
    },
    {
      "cell_type": "code",
      "source": [
        "E_1_2 = {(i,j) : abs(i-j) for i,j in Omega}\n",
        "E_1_2"
      ],
      "metadata": {
        "colab": {
          "base_uri": "https://localhost:8080/"
        },
        "id": "fbVFhtwgFm5D",
        "outputId": "c4d7c1d8-83ff-442f-f906-b42c7cefc0dd"
      },
      "execution_count": 59,
      "outputs": [
        {
          "output_type": "execute_result",
          "data": {
            "text/plain": [
              "{(3, 4): 1,\n",
              " (4, 3): 1,\n",
              " (3, 1): 2,\n",
              " (5, 4): 1,\n",
              " (4, 6): 2,\n",
              " (5, 1): 4,\n",
              " (2, 2): 0,\n",
              " (1, 6): 5,\n",
              " (2, 5): 3,\n",
              " (1, 3): 2,\n",
              " (6, 2): 4,\n",
              " (6, 5): 1,\n",
              " (4, 2): 2,\n",
              " (4, 5): 1,\n",
              " (3, 3): 0,\n",
              " (5, 6): 1,\n",
              " (3, 6): 3,\n",
              " (5, 3): 2,\n",
              " (2, 4): 2,\n",
              " (1, 2): 1,\n",
              " (2, 1): 1,\n",
              " (1, 5): 4,\n",
              " (6, 1): 5,\n",
              " (6, 4): 2,\n",
              " (3, 2): 1,\n",
              " (4, 1): 3,\n",
              " (3, 5): 2,\n",
              " (5, 2): 3,\n",
              " (4, 4): 0,\n",
              " (5, 5): 0,\n",
              " (1, 1): 0,\n",
              " (1, 4): 3,\n",
              " (2, 3): 1,\n",
              " (2, 6): 4,\n",
              " (6, 6): 0,\n",
              " (6, 3): 3}"
            ]
          },
          "metadata": {},
          "execution_count": 59
        }
      ]
    },
    {
      "cell_type": "code",
      "source": [
        "# Creando un nuevo conjunto manipulable\n",
        "dE_1_2 = defaultdict(set)\n",
        "# Invirtiendo diccionarios y juntando\n",
        "for l, v in E_1_2.items():\n",
        "  dE_1_2[v].add(l)\n",
        "dE_1_2"
      ],
      "metadata": {
        "colab": {
          "base_uri": "https://localhost:8080/"
        },
        "id": "qKxwpsPNFw24",
        "outputId": "77edcb1b-eda3-4ad1-8811-479c0dfc17b6"
      },
      "execution_count": 60,
      "outputs": [
        {
          "output_type": "execute_result",
          "data": {
            "text/plain": [
              "defaultdict(set,\n",
              "            {1: {(1, 2),\n",
              "              (2, 1),\n",
              "              (2, 3),\n",
              "              (3, 2),\n",
              "              (3, 4),\n",
              "              (4, 3),\n",
              "              (4, 5),\n",
              "              (5, 4),\n",
              "              (5, 6),\n",
              "              (6, 5)},\n",
              "             2: {(1, 3),\n",
              "              (2, 4),\n",
              "              (3, 1),\n",
              "              (3, 5),\n",
              "              (4, 2),\n",
              "              (4, 6),\n",
              "              (5, 3),\n",
              "              (6, 4)},\n",
              "             4: {(1, 5), (2, 6), (5, 1), (6, 2)},\n",
              "             0: {(1, 1), (2, 2), (3, 3), (4, 4), (5, 5), (6, 6)},\n",
              "             5: {(1, 6), (6, 1)},\n",
              "             3: {(1, 4), (2, 5), (3, 6), (4, 1), (5, 2), (6, 3)}})"
            ]
          },
          "metadata": {},
          "execution_count": 60
        }
      ]
    },
    {
      "cell_type": "code",
      "source": [
        "leyE_1_2 = {k : P(A,Omega) for k , A in dE_1_2.items() }\n",
        "leyE_1_2"
      ],
      "metadata": {
        "colab": {
          "base_uri": "https://localhost:8080/"
        },
        "id": "WR-RT-AeFwxQ",
        "outputId": "f4fec6f1-40e2-4119-ad8e-26276622847c"
      },
      "execution_count": 61,
      "outputs": [
        {
          "output_type": "execute_result",
          "data": {
            "text/plain": [
              "{1: Fraction(5, 18),\n",
              " 2: Fraction(2, 9),\n",
              " 4: Fraction(1, 9),\n",
              " 0: Fraction(1, 6),\n",
              " 5: Fraction(1, 18),\n",
              " 3: Fraction(1, 6)}"
            ]
          },
          "metadata": {},
          "execution_count": 61
        }
      ]
    },
    {
      "cell_type": "code",
      "source": [
        "leyE_1_2S = pd.Series(leyE_1_2)\n",
        "leyE_1_2S = leyE_1_2S.sort_index()\n",
        "leyE_1_2S"
      ],
      "metadata": {
        "colab": {
          "base_uri": "https://localhost:8080/"
        },
        "id": "GIM0ypSrFwvD",
        "outputId": "5ae50d60-06b7-4b39-d63a-7e1b9525416c"
      },
      "execution_count": 62,
      "outputs": [
        {
          "output_type": "execute_result",
          "data": {
            "text/plain": [
              "0     1/6\n",
              "1    5/18\n",
              "2     2/9\n",
              "3     1/6\n",
              "4     1/9\n",
              "5    1/18\n",
              "dtype: object"
            ]
          },
          "metadata": {},
          "execution_count": 62
        }
      ]
    },
    {
      "cell_type": "markdown",
      "source": [
        "De esta forma, es más evidente que se cumple:\n",
        "\n",
        "$$\\sum_{k\\in R_{X}}\\mathbb{P}(X=x)=1.$$\n",
        "\n",
        "Pues abarcamos todos los posibles resultados."
      ],
      "metadata": {
        "id": "5QWDdcnfGfYV"
      }
    },
    {
      "cell_type": "code",
      "source": [
        "#Comprobando al sumar todas las probabilidades de las posibles sumas:\n",
        "sum(leyE_1_2S)"
      ],
      "metadata": {
        "colab": {
          "base_uri": "https://localhost:8080/"
        },
        "id": "JCmQz_iiFwse",
        "outputId": "30801523-ce11-49f8-8044-364344cf711b"
      },
      "execution_count": 63,
      "outputs": [
        {
          "output_type": "execute_result",
          "data": {
            "text/plain": [
              "Fraction(1, 1)"
            ]
          },
          "metadata": {},
          "execution_count": 63
        }
      ]
    },
    {
      "cell_type": "markdown",
      "source": [
        "### **Ejercicio 2** - Probabilidad de que la suma de las caras sea par.\n",
        "Realizando un proceso análogo"
      ],
      "metadata": {
        "id": "iHQlqNn27RPS"
      }
    },
    {
      "cell_type": "code",
      "source": [
        "print(Omega)"
      ],
      "metadata": {
        "colab": {
          "base_uri": "https://localhost:8080/"
        },
        "id": "L5ObEQVKAHXH",
        "outputId": "ef39cae0-868a-407a-e837-1948ff888b4a"
      },
      "execution_count": 64,
      "outputs": [
        {
          "output_type": "stream",
          "name": "stdout",
          "text": [
            "{(3, 4), (4, 3), (3, 1), (5, 4), (4, 6), (5, 1), (2, 2), (1, 6), (2, 5), (1, 3), (6, 2), (6, 5), (4, 2), (4, 5), (3, 3), (5, 6), (3, 6), (5, 3), (2, 4), (1, 2), (2, 1), (1, 5), (6, 1), (6, 4), (3, 2), (4, 1), (3, 5), (5, 2), (4, 4), (5, 5), (1, 1), (1, 4), (2, 3), (2, 6), (6, 6), (6, 3)}\n"
          ]
        }
      ]
    },
    {
      "cell_type": "markdown",
      "source": [
        "#### Creando el primer diccionario para obtener su probabilidad:\n",
        "- La suma de las caras sea par."
      ],
      "metadata": {
        "id": "i8AL_InH9Hkb"
      }
    },
    {
      "cell_type": "code",
      "source": [
        "# El siguiente diccionario nos dará cada par con su respectiva sumas.\n",
        "E2 = {(i,j) : i+j for i,j in Omega }\n",
        "E2"
      ],
      "metadata": {
        "colab": {
          "base_uri": "https://localhost:8080/"
        },
        "collapsed": true,
        "id": "c4o9PZkt7TFY",
        "outputId": "4f0b9994-ec61-46c9-db5d-2ec696f649d0"
      },
      "execution_count": 65,
      "outputs": [
        {
          "output_type": "execute_result",
          "data": {
            "text/plain": [
              "{(3, 4): 7,\n",
              " (4, 3): 7,\n",
              " (3, 1): 4,\n",
              " (5, 4): 9,\n",
              " (4, 6): 10,\n",
              " (5, 1): 6,\n",
              " (2, 2): 4,\n",
              " (1, 6): 7,\n",
              " (2, 5): 7,\n",
              " (1, 3): 4,\n",
              " (6, 2): 8,\n",
              " (6, 5): 11,\n",
              " (4, 2): 6,\n",
              " (4, 5): 9,\n",
              " (3, 3): 6,\n",
              " (5, 6): 11,\n",
              " (3, 6): 9,\n",
              " (5, 3): 8,\n",
              " (2, 4): 6,\n",
              " (1, 2): 3,\n",
              " (2, 1): 3,\n",
              " (1, 5): 6,\n",
              " (6, 1): 7,\n",
              " (6, 4): 10,\n",
              " (3, 2): 5,\n",
              " (4, 1): 5,\n",
              " (3, 5): 8,\n",
              " (5, 2): 7,\n",
              " (4, 4): 8,\n",
              " (5, 5): 10,\n",
              " (1, 1): 2,\n",
              " (1, 4): 5,\n",
              " (2, 3): 5,\n",
              " (2, 6): 8,\n",
              " (6, 6): 12,\n",
              " (6, 3): 9}"
            ]
          },
          "metadata": {},
          "execution_count": 65
        }
      ]
    },
    {
      "cell_type": "code",
      "source": [
        "# El siguiente diccionario nos dará cada par con su respectiva diferencia, pero ya estará filtrado con la condición de la suma par.\n",
        "E_2 = {(i,j) : i+j for i,j in Omega if (i+j)%2  == 0}\n",
        "E_2"
      ],
      "metadata": {
        "colab": {
          "base_uri": "https://localhost:8080/"
        },
        "collapsed": true,
        "id": "yqfOqV-e96ti",
        "outputId": "f6ab4c84-2ed3-4510-f27a-133ab92df8dd"
      },
      "execution_count": 66,
      "outputs": [
        {
          "output_type": "execute_result",
          "data": {
            "text/plain": [
              "{(3, 1): 4,\n",
              " (4, 6): 10,\n",
              " (5, 1): 6,\n",
              " (2, 2): 4,\n",
              " (1, 3): 4,\n",
              " (6, 2): 8,\n",
              " (4, 2): 6,\n",
              " (3, 3): 6,\n",
              " (5, 3): 8,\n",
              " (2, 4): 6,\n",
              " (1, 5): 6,\n",
              " (6, 4): 10,\n",
              " (3, 5): 8,\n",
              " (4, 4): 8,\n",
              " (5, 5): 10,\n",
              " (1, 1): 2,\n",
              " (2, 6): 8,\n",
              " (6, 6): 12}"
            ]
          },
          "metadata": {},
          "execution_count": 66
        }
      ]
    },
    {
      "cell_type": "markdown",
      "source": [
        "#### Acomodando datos:"
      ],
      "metadata": {
        "id": "XbWSzyMDDo4P"
      }
    },
    {
      "cell_type": "code",
      "source": [
        "# Creando un nuevo conjunto manipulable\n",
        "dE_2 = defaultdict(set)\n",
        "dE_2"
      ],
      "metadata": {
        "colab": {
          "base_uri": "https://localhost:8080/"
        },
        "id": "HQ6NTEH892Jt",
        "outputId": "30c12920-4fd7-419e-b3d8-c7d615353e2a"
      },
      "execution_count": 67,
      "outputs": [
        {
          "output_type": "execute_result",
          "data": {
            "text/plain": [
              "defaultdict(set, {})"
            ]
          },
          "metadata": {},
          "execution_count": 67
        }
      ]
    },
    {
      "cell_type": "code",
      "source": [
        "# Invirtiendo diccionarios y juntando\n",
        "for l, v in E_2.items():\n",
        "  dE_2[v].add(l)\n",
        "dE_2"
      ],
      "metadata": {
        "colab": {
          "base_uri": "https://localhost:8080/"
        },
        "id": "Yim9s0ucNi_5",
        "outputId": "f693556f-651e-43be-c154-ec18ce385e31"
      },
      "execution_count": 68,
      "outputs": [
        {
          "output_type": "execute_result",
          "data": {
            "text/plain": [
              "defaultdict(set,\n",
              "            {4: {(1, 3), (2, 2), (3, 1)},\n",
              "             10: {(4, 6), (5, 5), (6, 4)},\n",
              "             6: {(1, 5), (2, 4), (3, 3), (4, 2), (5, 1)},\n",
              "             8: {(2, 6), (3, 5), (4, 4), (5, 3), (6, 2)},\n",
              "             2: {(1, 1)},\n",
              "             12: {(6, 6)}})"
            ]
          },
          "metadata": {},
          "execution_count": 68
        }
      ]
    },
    {
      "cell_type": "markdown",
      "source": [
        "#### Obteniendo su Ley de Probabilidad"
      ],
      "metadata": {
        "id": "56xrrjvjOkFt"
      }
    },
    {
      "cell_type": "code",
      "source": [
        "leyE_2 = {k : P(A,Omega) for k , A in dE_2.items() }\n",
        "leyE_2"
      ],
      "metadata": {
        "colab": {
          "base_uri": "https://localhost:8080/"
        },
        "outputId": "1a8baab9-da11-4a94-a5a5-2c21fc481157",
        "id": "RcvJFbetO6Ta"
      },
      "execution_count": 69,
      "outputs": [
        {
          "output_type": "execute_result",
          "data": {
            "text/plain": [
              "{4: Fraction(1, 12),\n",
              " 10: Fraction(1, 12),\n",
              " 6: Fraction(5, 36),\n",
              " 8: Fraction(5, 36),\n",
              " 2: Fraction(1, 36),\n",
              " 12: Fraction(1, 36)}"
            ]
          },
          "metadata": {},
          "execution_count": 69
        }
      ]
    },
    {
      "cell_type": "markdown",
      "source": [
        "#### Convirtiendo a Pandas"
      ],
      "metadata": {
        "id": "LSOnycNdPMQ0"
      }
    },
    {
      "cell_type": "code",
      "source": [
        "leyE_2S = pd.Series(leyE_2)\n",
        "leyE_2S = leyE_2S.sort_index()\n",
        "leyE_2S"
      ],
      "metadata": {
        "colab": {
          "base_uri": "https://localhost:8080/"
        },
        "id": "jI8kSC3cPOUX",
        "outputId": "662d8f7d-e7be-421b-8377-ba2d618c4ee6"
      },
      "execution_count": 70,
      "outputs": [
        {
          "output_type": "execute_result",
          "data": {
            "text/plain": [
              "2     1/36\n",
              "4     1/12\n",
              "6     5/36\n",
              "8     5/36\n",
              "10    1/12\n",
              "12    1/36\n",
              "dtype: object"
            ]
          },
          "metadata": {},
          "execution_count": 70
        }
      ]
    },
    {
      "cell_type": "markdown",
      "source": [
        "Obtuvimos la probabilidad de todas las posibles sumas que den como resultado un número par con los dados.\n",
        "Para poder obtener la probabilidad de obtener una pareja de dados cuya suma sea par, podemos sumar las probabilidad; pues tenemos eventos mutuamente excluyentes.\n",
        "\n",
        "---\n",
        "~~~\n",
        "Dos eventos A y B son mutuamente excluyentes si no pueden ocurrir al mismo tiempo, es decir, si no tienen elementos comunes.\n",
        "~~~\n",
        "---"
      ],
      "metadata": {
        "id": "vJsyvNsmPZty"
      }
    },
    {
      "cell_type": "code",
      "source": [
        "P2 = sum(leyE_2S)\n",
        "P2"
      ],
      "metadata": {
        "colab": {
          "base_uri": "https://localhost:8080/"
        },
        "id": "nkNRxqN9PbhN",
        "outputId": "246817cb-bfa7-47f5-8eb5-5fb3f49801d0"
      },
      "execution_count": 71,
      "outputs": [
        {
          "output_type": "execute_result",
          "data": {
            "text/plain": [
              "Fraction(1, 2)"
            ]
          },
          "metadata": {},
          "execution_count": 71
        }
      ]
    },
    {
      "cell_type": "markdown",
      "source": [
        "Por lo que la probabilidad de obtener dos números cuya suma sea par:\n",
        "$$ \\mathbb{P} (X = x | x = 2n)= \\frac{1}{2} = .5 \\quad; \\quad n \\in \\mathbb{N} \\cup \\{0\\} $$"
      ],
      "metadata": {
        "id": "fvcfgw2UPka8"
      }
    },
    {
      "cell_type": "markdown",
      "source": [
        "#### Comprobando:\n",
        "Haciendo el análogo del ejercicio para:\n",
        "\n",
        "$$\\sum_{k\\in R_{X}}\\mathbb{P}(X=x)=1.$$"
      ],
      "metadata": {
        "id": "Vh8WZZ-AHy3p"
      }
    },
    {
      "cell_type": "markdown",
      "source": [
        "##### Forma 1: Sumando complemento"
      ],
      "metadata": {
        "id": "5mddM-lyIJOc"
      }
    },
    {
      "cell_type": "code",
      "source": [
        "E_2_C = {(i,j) : i+j for i,j in Omega if (i+j)%2  == 1}\n",
        "E_2_C"
      ],
      "metadata": {
        "colab": {
          "base_uri": "https://localhost:8080/"
        },
        "id": "LVEh9PwuPqdU",
        "outputId": "79014573-0e0d-4a3f-de8a-ae744d85c9b3"
      },
      "execution_count": 72,
      "outputs": [
        {
          "output_type": "execute_result",
          "data": {
            "text/plain": [
              "{(3, 4): 7,\n",
              " (4, 3): 7,\n",
              " (5, 4): 9,\n",
              " (1, 6): 7,\n",
              " (2, 5): 7,\n",
              " (6, 5): 11,\n",
              " (4, 5): 9,\n",
              " (5, 6): 11,\n",
              " (3, 6): 9,\n",
              " (1, 2): 3,\n",
              " (2, 1): 3,\n",
              " (6, 1): 7,\n",
              " (3, 2): 5,\n",
              " (4, 1): 5,\n",
              " (5, 2): 7,\n",
              " (1, 4): 5,\n",
              " (2, 3): 5,\n",
              " (6, 3): 9}"
            ]
          },
          "metadata": {},
          "execution_count": 72
        }
      ]
    },
    {
      "cell_type": "code",
      "source": [
        "# Creando un nuevo conjunto manipulable\n",
        "dE_2_C = defaultdict(set)\n",
        "# Invirtiendo diccionarios y juntando\n",
        "for l, v in E_2_C.items():\n",
        "  dE_2_C[v].add(l)\n",
        "dE_2_C"
      ],
      "metadata": {
        "colab": {
          "base_uri": "https://localhost:8080/"
        },
        "id": "AyGdebWHIm1S",
        "outputId": "dd733275-ef3c-4842-c8f5-a7dac6db51a3"
      },
      "execution_count": 73,
      "outputs": [
        {
          "output_type": "execute_result",
          "data": {
            "text/plain": [
              "defaultdict(set,\n",
              "            {7: {(1, 6), (2, 5), (3, 4), (4, 3), (5, 2), (6, 1)},\n",
              "             9: {(3, 6), (4, 5), (5, 4), (6, 3)},\n",
              "             11: {(5, 6), (6, 5)},\n",
              "             3: {(1, 2), (2, 1)},\n",
              "             5: {(1, 4), (2, 3), (3, 2), (4, 1)}})"
            ]
          },
          "metadata": {},
          "execution_count": 73
        }
      ]
    },
    {
      "cell_type": "code",
      "source": [
        "leyE_2_C = {k : P(A,Omega) for k , A in dE_2_C.items() }\n",
        "leyE_2_C"
      ],
      "metadata": {
        "colab": {
          "base_uri": "https://localhost:8080/"
        },
        "id": "DJFvWzsQKADe",
        "outputId": "5ccdb358-af37-408f-c877-a236c36184fe"
      },
      "execution_count": 74,
      "outputs": [
        {
          "output_type": "execute_result",
          "data": {
            "text/plain": [
              "{7: Fraction(1, 6),\n",
              " 9: Fraction(1, 9),\n",
              " 11: Fraction(1, 18),\n",
              " 3: Fraction(1, 18),\n",
              " 5: Fraction(1, 9)}"
            ]
          },
          "metadata": {},
          "execution_count": 74
        }
      ]
    },
    {
      "cell_type": "code",
      "source": [
        "leyE_2_CS = pd.Series(leyE_2_C)\n",
        "leyE_2_CS = leyE_2_CS.sort_index()\n",
        "leyE_2_CS"
      ],
      "metadata": {
        "colab": {
          "base_uri": "https://localhost:8080/"
        },
        "id": "QxyK3ydJKO0_",
        "outputId": "025648e5-f97f-4a9a-8317-6bdf54bcd983"
      },
      "execution_count": 75,
      "outputs": [
        {
          "output_type": "execute_result",
          "data": {
            "text/plain": [
              "3     1/18\n",
              "5      1/9\n",
              "7      1/6\n",
              "9      1/9\n",
              "11    1/18\n",
              "dtype: object"
            ]
          },
          "metadata": {},
          "execution_count": 75
        }
      ]
    },
    {
      "cell_type": "code",
      "source": [
        "P2_C = sum(leyE_2_CS)\n",
        "P2_C"
      ],
      "metadata": {
        "colab": {
          "base_uri": "https://localhost:8080/"
        },
        "id": "dm5eWaw1KJVX",
        "outputId": "98ef424b-ef45-4d33-f722-1bd559de4f44"
      },
      "execution_count": 76,
      "outputs": [
        {
          "output_type": "execute_result",
          "data": {
            "text/plain": [
              "Fraction(1, 2)"
            ]
          },
          "metadata": {},
          "execution_count": 76
        }
      ]
    },
    {
      "cell_type": "markdown",
      "source": [
        "Sumando las probabilidades para corroborar:\n",
        "Entonces, sumando las probabilidades:\n",
        "$$ \\sum_{k\\in R_{X}}\\mathbb{P}(X=x) = \\mathbb{P} (X=x | x = 2n-1) + \\mathbb{P} (X=x | x = 2n ) = \\frac{1}{2} + \\frac{1}{2} = \\frac{2}{2} =  1 \\quad; \\quad n \\in \\mathbb{N} \\cup \\{0\\} $$\n",
        "\n"
      ],
      "metadata": {
        "id": "Le6hYe-5Kdkm"
      }
    },
    {
      "cell_type": "code",
      "source": [
        "P2 + P2_C"
      ],
      "metadata": {
        "colab": {
          "base_uri": "https://localhost:8080/"
        },
        "id": "wWIF3NXfMztt",
        "outputId": "cad2fe2e-7cb8-43b0-9818-1fcae82567d0"
      },
      "execution_count": 77,
      "outputs": [
        {
          "output_type": "execute_result",
          "data": {
            "text/plain": [
              "Fraction(1, 1)"
            ]
          },
          "metadata": {},
          "execution_count": 77
        }
      ]
    },
    {
      "cell_type": "markdown",
      "source": [
        "##### Forma 2: Sin restricciones"
      ],
      "metadata": {
        "id": "lSUUXUSTNIZG"
      }
    },
    {
      "cell_type": "code",
      "source": [
        "E_2_2 = {(i,j) : i+j for i,j in Omega if (i+j)%2  == 1 or (i+j)%2  == 0}\n",
        "#E_2_2 = {(i,j) : i+j for i,j in Omega} # Con cualquiera de las dos opciones nos referimos al mismo conjunto\n",
        "E_2_2"
      ],
      "metadata": {
        "colab": {
          "base_uri": "https://localhost:8080/"
        },
        "id": "ARMzefLgM3ym",
        "outputId": "9ba57ac8-72e2-4ae8-c1e4-8d1a264799dc"
      },
      "execution_count": 78,
      "outputs": [
        {
          "output_type": "execute_result",
          "data": {
            "text/plain": [
              "{(3, 4): 7,\n",
              " (4, 3): 7,\n",
              " (3, 1): 4,\n",
              " (5, 4): 9,\n",
              " (4, 6): 10,\n",
              " (5, 1): 6,\n",
              " (2, 2): 4,\n",
              " (1, 6): 7,\n",
              " (2, 5): 7,\n",
              " (1, 3): 4,\n",
              " (6, 2): 8,\n",
              " (6, 5): 11,\n",
              " (4, 2): 6,\n",
              " (4, 5): 9,\n",
              " (3, 3): 6,\n",
              " (5, 6): 11,\n",
              " (3, 6): 9,\n",
              " (5, 3): 8,\n",
              " (2, 4): 6,\n",
              " (1, 2): 3,\n",
              " (2, 1): 3,\n",
              " (1, 5): 6,\n",
              " (6, 1): 7,\n",
              " (6, 4): 10,\n",
              " (3, 2): 5,\n",
              " (4, 1): 5,\n",
              " (3, 5): 8,\n",
              " (5, 2): 7,\n",
              " (4, 4): 8,\n",
              " (5, 5): 10,\n",
              " (1, 1): 2,\n",
              " (1, 4): 5,\n",
              " (2, 3): 5,\n",
              " (2, 6): 8,\n",
              " (6, 6): 12,\n",
              " (6, 3): 9}"
            ]
          },
          "metadata": {},
          "execution_count": 78
        }
      ]
    },
    {
      "cell_type": "code",
      "source": [
        "# Creando un nuevo conjunto manipulable\n",
        "dE_2_2 = defaultdict(set)\n",
        "# Invirtiendo diccionarios y juntando\n",
        "for l, v in E_2_2.items():\n",
        "  dE_2_2[v].add(l)\n",
        "dE_2_2"
      ],
      "metadata": {
        "colab": {
          "base_uri": "https://localhost:8080/"
        },
        "id": "uqtt6_f1NVlH",
        "outputId": "7c0bdaaa-7d69-4421-c7c9-d90a3dfefdb0"
      },
      "execution_count": 79,
      "outputs": [
        {
          "output_type": "execute_result",
          "data": {
            "text/plain": [
              "defaultdict(set,\n",
              "            {7: {(1, 6), (2, 5), (3, 4), (4, 3), (5, 2), (6, 1)},\n",
              "             4: {(1, 3), (2, 2), (3, 1)},\n",
              "             9: {(3, 6), (4, 5), (5, 4), (6, 3)},\n",
              "             10: {(4, 6), (5, 5), (6, 4)},\n",
              "             6: {(1, 5), (2, 4), (3, 3), (4, 2), (5, 1)},\n",
              "             8: {(2, 6), (3, 5), (4, 4), (5, 3), (6, 2)},\n",
              "             11: {(5, 6), (6, 5)},\n",
              "             3: {(1, 2), (2, 1)},\n",
              "             5: {(1, 4), (2, 3), (3, 2), (4, 1)},\n",
              "             2: {(1, 1)},\n",
              "             12: {(6, 6)}})"
            ]
          },
          "metadata": {},
          "execution_count": 79
        }
      ]
    },
    {
      "cell_type": "code",
      "source": [
        "leyE_2_2 = {k : P(A,Omega) for k , A in dE_2_2.items() }\n",
        "leyE_2_2"
      ],
      "metadata": {
        "colab": {
          "base_uri": "https://localhost:8080/"
        },
        "id": "HN7t_R29NqWy",
        "outputId": "8db93b08-11d0-40f5-e2e0-2d2768cd8341"
      },
      "execution_count": 80,
      "outputs": [
        {
          "output_type": "execute_result",
          "data": {
            "text/plain": [
              "{7: Fraction(1, 6),\n",
              " 4: Fraction(1, 12),\n",
              " 9: Fraction(1, 9),\n",
              " 10: Fraction(1, 12),\n",
              " 6: Fraction(5, 36),\n",
              " 8: Fraction(5, 36),\n",
              " 11: Fraction(1, 18),\n",
              " 3: Fraction(1, 18),\n",
              " 5: Fraction(1, 9),\n",
              " 2: Fraction(1, 36),\n",
              " 12: Fraction(1, 36)}"
            ]
          },
          "metadata": {},
          "execution_count": 80
        }
      ]
    },
    {
      "cell_type": "code",
      "source": [
        "leyE_2_2S = pd.Series(leyE_2_2)\n",
        "leyE_2_2S = leyE_2_2S.sort_index()\n",
        "leyE_2_2S"
      ],
      "metadata": {
        "colab": {
          "base_uri": "https://localhost:8080/"
        },
        "id": "fGIt-xb2NuGq",
        "outputId": "ddeae632-835c-4bbd-bd55-76998fc119af"
      },
      "execution_count": 81,
      "outputs": [
        {
          "output_type": "execute_result",
          "data": {
            "text/plain": [
              "2     1/36\n",
              "3     1/18\n",
              "4     1/12\n",
              "5      1/9\n",
              "6     5/36\n",
              "7      1/6\n",
              "8     5/36\n",
              "9      1/9\n",
              "10    1/12\n",
              "11    1/18\n",
              "12    1/36\n",
              "dtype: object"
            ]
          },
          "metadata": {},
          "execution_count": 81
        }
      ]
    },
    {
      "cell_type": "markdown",
      "source": [
        "Nuevamente, es más evidente, en esta forma, que se cumple:\n",
        "\n",
        "$$\\sum_{k\\in R_{X}}\\mathbb{P}(X=x)=1.$$\n",
        "\n",
        "Pues abarcamos todos los posibles resultados."
      ],
      "metadata": {
        "id": "8GLgQxi_OFdJ"
      }
    },
    {
      "cell_type": "code",
      "source": [
        "P2_2 = sum(leyE_2_2S)\n",
        "P2_2"
      ],
      "metadata": {
        "colab": {
          "base_uri": "https://localhost:8080/"
        },
        "id": "TQHxaI_LNz3d",
        "outputId": "94759221-a760-4202-8e52-5cf434f05edb"
      },
      "execution_count": 82,
      "outputs": [
        {
          "output_type": "execute_result",
          "data": {
            "text/plain": [
              "Fraction(1, 1)"
            ]
          },
          "metadata": {},
          "execution_count": 82
        }
      ]
    }
  ]
}