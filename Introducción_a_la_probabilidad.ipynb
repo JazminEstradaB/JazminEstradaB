{
  "nbformat": 4,
  "nbformat_minor": 0,
  "metadata": {
    "colab": {
      "provenance": []
    },
    "kernelspec": {
      "name": "python3",
      "display_name": "Python 3"
    },
    "language_info": {
      "name": "python"
    }
  },
  "cells": [
    {
      "cell_type": "markdown",
      "source": [
        "#Equipo 5\n",
        "\n",
        "Estrada Barrón Teresa Jazmin\n"
      ],
      "metadata": {
        "id": "kTzevmB4KIqc"
      }
    },
    {
      "cell_type": "markdown",
      "source": [
        "#Probabilidad clásica"
      ],
      "metadata": {
        "id": "IJ6U7P_TWApi"
      }
    },
    {
      "cell_type": "markdown",
      "source": [
        "##Algunos conceptos de Python.\n",
        "\n",
        "\n",
        "*   Es un lenguaje orientado a objetos\n",
        "*   Objetos: int, float, str, listas(list), vectores(array), conjuntos(set), diccionarios, dataframes, etc.\n",
        "\n"
      ],
      "metadata": {
        "id": "ReU8DHPxWGd-"
      }
    },
    {
      "cell_type": "code",
      "execution_count": null,
      "metadata": {
        "colab": {
          "base_uri": "https://localhost:8080/"
        },
        "id": "4KAAQx9nO79W",
        "outputId": "a49eeb0e-c634-41f9-ebb4-fb16a66be5bc"
      },
      "outputs": [
        {
          "output_type": "stream",
          "name": "stdout",
          "text": [
            "9\n",
            "0.8\n",
            "20\n",
            "1024\n",
            "0\n"
          ]
        }
      ],
      "source": [
        "print(4+5)\n",
        "print(4/5) #division\n",
        "print(4*5) #multiplicación\n",
        "print(4**5) #potenciar\n",
        "print(4//5) #división al piso, nos arroja el entero por debajo más cercano del resultado"
      ]
    },
    {
      "cell_type": "markdown",
      "source": [
        "División al piso: Si $x \\in \\mathbb{R}$, la función piso:\n",
        "$$\\lfloor x \\rfloor=max\\{m\\in \\mathbb{Z} | m \\leq x\\}$$"
      ],
      "metadata": {
        "id": "YOQO88QRk2K3"
      }
    },
    {
      "cell_type": "code",
      "source": [
        "9//4"
      ],
      "metadata": {
        "colab": {
          "base_uri": "https://localhost:8080/"
        },
        "id": "9C9x-LOink1W",
        "outputId": "f87a7163-4ac9-4d07-e0e2-1dcd411d4b73"
      },
      "execution_count": null,
      "outputs": [
        {
          "output_type": "execute_result",
          "data": {
            "text/plain": [
              "2"
            ]
          },
          "metadata": {},
          "execution_count": 2
        }
      ]
    },
    {
      "cell_type": "markdown",
      "source": [
        "Operación modular: Sean $a$ y $b$ números reales.\n",
        "\n",
        "El residuo de dividir $a$ entre $b$ se llama operación modular. En Python se escribe $a$%$b$"
      ],
      "metadata": {
        "id": "ZZdKCfc7nJgv"
      }
    },
    {
      "cell_type": "code",
      "source": [
        "5%2"
      ],
      "metadata": {
        "colab": {
          "base_uri": "https://localhost:8080/"
        },
        "id": "af0NE1q0njbi",
        "outputId": "23816934-7c56-434a-b953-a841736ab0a1"
      },
      "execution_count": null,
      "outputs": [
        {
          "output_type": "execute_result",
          "data": {
            "text/plain": [
              "1"
            ]
          },
          "metadata": {},
          "execution_count": 3
        }
      ]
    },
    {
      "cell_type": "markdown",
      "source": [
        "##Listas\n",
        "\n",
        "Una lista es una manera de organizar objetos."
      ],
      "metadata": {
        "id": "8NqPzoWgnpBR"
      }
    },
    {
      "cell_type": "code",
      "source": [
        "#Variables, es una froma de escribir a un objeto\n",
        "lista_1=[1, 3.2, \"Hola\", False, {\"A\", \"S\"}]\n",
        "lista_1"
      ],
      "metadata": {
        "colab": {
          "base_uri": "https://localhost:8080/"
        },
        "id": "RMr3BZuioHCX",
        "outputId": "1e9f54a8-daf5-4115-c6c1-073d6480875a"
      },
      "execution_count": null,
      "outputs": [
        {
          "output_type": "execute_result",
          "data": {
            "text/plain": [
              "[1, 3.2, 'Hola', False, {'A', 'S'}]"
            ]
          },
          "metadata": {},
          "execution_count": 4
        }
      ]
    },
    {
      "cell_type": "code",
      "source": [
        "#La función type nos dice que tipo de objeto se tiene\n",
        "type(lista_1)"
      ],
      "metadata": {
        "colab": {
          "base_uri": "https://localhost:8080/"
        },
        "id": "nD6fntWwpSgp",
        "outputId": "1571b5cc-90e2-478b-ad4b-ae8de9f3063d"
      },
      "execution_count": null,
      "outputs": [
        {
          "output_type": "execute_result",
          "data": {
            "text/plain": [
              "list"
            ]
          },
          "metadata": {},
          "execution_count": 5
        }
      ]
    },
    {
      "cell_type": "code",
      "source": [
        "type(5+8)"
      ],
      "metadata": {
        "colab": {
          "base_uri": "https://localhost:8080/"
        },
        "id": "ir1wjdBupgEU",
        "outputId": "b359a8f2-581b-4f0f-9d2f-d1cebe85f8f0"
      },
      "execution_count": null,
      "outputs": [
        {
          "output_type": "execute_result",
          "data": {
            "text/plain": [
              "int"
            ]
          },
          "metadata": {},
          "execution_count": 6
        }
      ]
    },
    {
      "cell_type": "markdown",
      "source": [
        "#### Ingresos a elementos\n",
        "\n",
        "Si tenemos una lista\n",
        "$$L = [e_{1}, e_{2}, \\dots, e_{n}]$$\n",
        "entonces si queremos ingresar al $e_{i}$ elemento, lo ponemos de la sig. manera: $$L[i-1]$$"
      ],
      "metadata": {
        "id": "eTHcXNsjq_CY"
      }
    },
    {
      "cell_type": "code",
      "source": [
        "lista_1[4]"
      ],
      "metadata": {
        "colab": {
          "base_uri": "https://localhost:8080/"
        },
        "id": "4vzhI_bIsa3c",
        "outputId": "82445ac9-f572-4b63-842d-ccce85e49d31"
      },
      "execution_count": null,
      "outputs": [
        {
          "output_type": "execute_result",
          "data": {
            "text/plain": [
              "{'A', 'S'}"
            ]
          },
          "metadata": {},
          "execution_count": 9
        }
      ]
    },
    {
      "cell_type": "code",
      "source": [
        "type(lista_1[4])"
      ],
      "metadata": {
        "colab": {
          "base_uri": "https://localhost:8080/"
        },
        "id": "LHYSy-hqsncB",
        "outputId": "7797d528-1118-4078-b752-3cc21c0d7e12"
      },
      "execution_count": null,
      "outputs": [
        {
          "output_type": "execute_result",
          "data": {
            "text/plain": [
              "set"
            ]
          },
          "metadata": {},
          "execution_count": 10
        }
      ]
    },
    {
      "cell_type": "code",
      "source": [
        "#Si el indice está fuera del rango, nos arroja el sig. error\n",
        "lista_1[5]"
      ],
      "metadata": {
        "colab": {
          "base_uri": "https://localhost:8080/",
          "height": 159
        },
        "id": "B_rnhyf_sx98",
        "outputId": "81cc0b28-c224-4e77-f41a-1b5ea38a5348"
      },
      "execution_count": null,
      "outputs": [
        {
          "output_type": "error",
          "ename": "IndexError",
          "evalue": "list index out of range",
          "traceback": [
            "\u001b[0;31m---------------------------------------------------------------------------\u001b[0m",
            "\u001b[0;31mIndexError\u001b[0m                                Traceback (most recent call last)",
            "\u001b[0;32m<ipython-input-11-186310a06b94>\u001b[0m in \u001b[0;36m<cell line: 2>\u001b[0;34m()\u001b[0m\n\u001b[1;32m      1\u001b[0m \u001b[0;31m#Si el indice está fuera del rango, nos arroja el sig. error\u001b[0m\u001b[0;34m\u001b[0m\u001b[0;34m\u001b[0m\u001b[0m\n\u001b[0;32m----> 2\u001b[0;31m \u001b[0mlista_1\u001b[0m\u001b[0;34m[\u001b[0m\u001b[0;36m5\u001b[0m\u001b[0;34m]\u001b[0m\u001b[0;34m\u001b[0m\u001b[0;34m\u001b[0m\u001b[0m\n\u001b[0m",
            "\u001b[0;31mIndexError\u001b[0m: list index out of range"
          ]
        }
      ]
    },
    {
      "cell_type": "markdown",
      "source": [
        "####Generador de índices(etiquetas de Python)\n",
        "\n",
        "Este genrador de índices, se llama `range`\n",
        "\n"
      ],
      "metadata": {
        "id": "4_0d81Vos7bU"
      }
    },
    {
      "cell_type": "code",
      "source": [
        "range(0,10)"
      ],
      "metadata": {
        "colab": {
          "base_uri": "https://localhost:8080/"
        },
        "id": "1kpEzD4utgJv",
        "outputId": "834a0c91-3e88-4d13-d48a-dad65993bb13"
      },
      "execution_count": null,
      "outputs": [
        {
          "output_type": "execute_result",
          "data": {
            "text/plain": [
              "range(0, 10)"
            ]
          },
          "metadata": {},
          "execution_count": 13
        }
      ]
    },
    {
      "cell_type": "code",
      "source": [
        "for i in range(10):\n",
        "  print(i)"
      ],
      "metadata": {
        "colab": {
          "base_uri": "https://localhost:8080/"
        },
        "id": "SKh_5FGOu0IY",
        "outputId": "e44dd9da-d8fc-4bab-c591-b0f59ec5813b"
      },
      "execution_count": null,
      "outputs": [
        {
          "output_type": "stream",
          "name": "stdout",
          "text": [
            "0\n",
            "1\n",
            "2\n",
            "3\n",
            "4\n",
            "5\n",
            "6\n",
            "7\n",
            "8\n",
            "9\n"
          ]
        }
      ]
    },
    {
      "cell_type": "code",
      "source": [
        "lista_2=[i for i in range(1,6)]\n",
        "lista_2"
      ],
      "metadata": {
        "colab": {
          "base_uri": "https://localhost:8080/"
        },
        "id": "WrxC8AVZu7qK",
        "outputId": "fbeb03f8-0276-4f67-ffff-fe1579d3351a"
      },
      "execution_count": null,
      "outputs": [
        {
          "output_type": "execute_result",
          "data": {
            "text/plain": [
              "[1, 2, 3, 4, 5]"
            ]
          },
          "metadata": {},
          "execution_count": 15
        }
      ]
    },
    {
      "cell_type": "code",
      "source": [
        "#Agregar elementos a una lista con la función append\n",
        "L=[]\n",
        "for i in range(2,6):\n",
        "  L.append(i)"
      ],
      "metadata": {
        "id": "WntrftaJvNSl"
      },
      "execution_count": null,
      "outputs": []
    },
    {
      "cell_type": "code",
      "source": [
        "L"
      ],
      "metadata": {
        "colab": {
          "base_uri": "https://localhost:8080/"
        },
        "id": "toHi1VhFvlDu",
        "outputId": "1a4ca758-1865-4783-a24a-c69080363e48"
      },
      "execution_count": null,
      "outputs": [
        {
          "output_type": "execute_result",
          "data": {
            "text/plain": [
              "[2, 3, 4, 5]"
            ]
          },
          "metadata": {},
          "execution_count": 17
        }
      ]
    },
    {
      "cell_type": "markdown",
      "source": [
        "###Modelo clásico laplaciano"
      ],
      "metadata": {
        "id": "IZfnXGAgpxGV"
      }
    },
    {
      "cell_type": "markdown",
      "source": [
        "###Ejemplo: lanzamiento de 3 monedas.\n",
        "\n",
        "Se tiene el siguiente experimento aleatorio. Se lanzan, de manera independiente, 3 monedas.\n",
        "\n",
        "El espacio muestral es:\n",
        "$$\\Omega=\\{A, S\\}\\times \\{A, S\\} \\times \\{A, S\\}= \\{A, S\\}^{3}$$"
      ],
      "metadata": {
        "id": "aQgDBqCHp1L1"
      }
    },
    {
      "cell_type": "markdown",
      "source": [
        "$$\\text{card}(\\Omega)= 2^{3} = 8$$"
      ],
      "metadata": {
        "id": "ZxnV-Aq2wP2o"
      }
    },
    {
      "cell_type": "markdown",
      "source": [
        "Tenemos\n",
        "$$\\mathscr{F}=p(\\Omega)$$\n",
        "$$\\text{card}(\\mathscr{F})= 2^{8}$$"
      ],
      "metadata": {
        "id": "N6Ow2izp0YX_"
      }
    },
    {
      "cell_type": "markdown",
      "source": [
        "$\\color{pink}{\\text{Definición  de  probabilidad   clásica}}$\n",
        "\n",
        "Si $E$ es un evento, la función de probabilidad:\n",
        "$$\\mathbb{P}(E)=\\frac{\\text{card}(E)}{\\text{card}(\\Omega)}$$"
      ],
      "metadata": {
        "id": "z6SaSUGj2XIb"
      }
    },
    {
      "cell_type": "code",
      "source": [
        "#Hay 256 posibles eventos\n",
        "2**8"
      ],
      "metadata": {
        "colab": {
          "base_uri": "https://localhost:8080/"
        },
        "id": "azp7wp4A1JFZ",
        "outputId": "fb2a76de-2e55-4864-f087-cb47068978eb"
      },
      "execution_count": null,
      "outputs": [
        {
          "output_type": "execute_result",
          "data": {
            "text/plain": [
              "256"
            ]
          },
          "metadata": {},
          "execution_count": 21
        }
      ]
    },
    {
      "cell_type": "code",
      "source": [
        "#Vamos a crear el código para Omega\n",
        "import itertools\n",
        "from itertools import product\n",
        "\n",
        "Omega=set(product({\"A\",\"S\"},repeat=3))\n",
        "Omega"
      ],
      "metadata": {
        "colab": {
          "base_uri": "https://localhost:8080/"
        },
        "id": "A_HgryvQwN_W",
        "outputId": "5232fa06-167b-4cf2-da31-e08035bf87c8"
      },
      "execution_count": null,
      "outputs": [
        {
          "output_type": "execute_result",
          "data": {
            "text/plain": [
              "{('A', 'A', 'A'),\n",
              " ('A', 'A', 'S'),\n",
              " ('A', 'S', 'A'),\n",
              " ('A', 'S', 'S'),\n",
              " ('S', 'A', 'A'),\n",
              " ('S', 'A', 'S'),\n",
              " ('S', 'S', 'A'),\n",
              " ('S', 'S', 'S')}"
            ]
          },
          "metadata": {},
          "execution_count": 19
        }
      ]
    },
    {
      "cell_type": "code",
      "source": [
        "len(Omega)"
      ],
      "metadata": {
        "colab": {
          "base_uri": "https://localhost:8080/"
        },
        "id": "mtalMva6z5s9",
        "outputId": "99be567a-0f36-49cd-caea-cb57ffb6c9dc"
      },
      "execution_count": null,
      "outputs": [
        {
          "output_type": "execute_result",
          "data": {
            "text/plain": [
              "8"
            ]
          },
          "metadata": {},
          "execution_count": 20
        }
      ]
    },
    {
      "cell_type": "code",
      "source": [
        "T=(\"A\",\"S\",\"S\")\n",
        "T[1]"
      ],
      "metadata": {
        "colab": {
          "base_uri": "https://localhost:8080/",
          "height": 35
        },
        "id": "Hxjo3mNAGPFJ",
        "outputId": "e6de84f6-443c-4069-f115-ad017a64f0e1"
      },
      "execution_count": null,
      "outputs": [
        {
          "output_type": "execute_result",
          "data": {
            "text/plain": [
              "'S'"
            ],
            "application/vnd.google.colaboratory.intrinsic+json": {
              "type": "string"
            }
          },
          "metadata": {},
          "execution_count": 45
        }
      ]
    },
    {
      "cell_type": "markdown",
      "source": [
        "Consideremos los siguientes eventos:\n",
        "\n",
        "\n",
        "\n",
        "1.   A: todas las caras sean águilas.\n",
        "2.   S: todas las caras sean soles.\n",
        "3.   E: por lo menos una cara sea sol.\n",
        "\n"
      ],
      "metadata": {
        "id": "3rmHnHQf1rUp"
      }
    },
    {
      "cell_type": "markdown",
      "source": [
        "Vamos a contestar la primer pregunta.\n",
        "\n",
        "Llamemos como $A_{i}$ al evento en donde cae águila en el $i$-ésimo resultado.\n",
        "\n",
        "Así,\n",
        "$$A=A_{1} \\cap A_{2} \\cap A_{3}$$"
      ],
      "metadata": {
        "id": "6z74hs-03yZA"
      }
    },
    {
      "cell_type": "code",
      "source": [
        "#Creamos a nuestro primer evento\n",
        "A_1={om for om in Omega if om[0]==\"A\"}\n",
        "A_1"
      ],
      "metadata": {
        "colab": {
          "base_uri": "https://localhost:8080/"
        },
        "id": "4Yj1Sx1x2Mid",
        "outputId": "36cc5ab6-cd12-428b-91ca-bee4c6012b1b"
      },
      "execution_count": null,
      "outputs": [
        {
          "output_type": "execute_result",
          "data": {
            "text/plain": [
              "{('A', 'A', 'A'), ('A', 'A', 'S'), ('A', 'S', 'A'), ('A', 'S', 'S')}"
            ]
          },
          "metadata": {},
          "execution_count": 22
        }
      ]
    },
    {
      "cell_type": "code",
      "source": [
        "#Creamos a nuestro segunto evento\n",
        "A_2={om for om in Omega if om[1]==\"A\"}\n",
        "A_2"
      ],
      "metadata": {
        "colab": {
          "base_uri": "https://localhost:8080/"
        },
        "id": "I0JvZWuY5akb",
        "outputId": "aa4e6cd3-1972-4b8c-9a2b-ba1ff8cf6a6c"
      },
      "execution_count": null,
      "outputs": [
        {
          "output_type": "execute_result",
          "data": {
            "text/plain": [
              "{('A', 'A', 'A'), ('A', 'A', 'S'), ('S', 'A', 'A'), ('S', 'A', 'S')}"
            ]
          },
          "metadata": {},
          "execution_count": 23
        }
      ]
    },
    {
      "cell_type": "code",
      "source": [
        "#Creamos a nuestro tercer evento\n",
        "A_3={om for om in Omega if om[2]==\"A\"}\n",
        "A_3"
      ],
      "metadata": {
        "colab": {
          "base_uri": "https://localhost:8080/"
        },
        "id": "UBkLY2dC5jAx",
        "outputId": "6f4a6f2d-638c-4554-c76f-190f2227b400"
      },
      "execution_count": null,
      "outputs": [
        {
          "output_type": "execute_result",
          "data": {
            "text/plain": [
              "{('A', 'A', 'A'), ('A', 'S', 'A'), ('S', 'A', 'A'), ('S', 'S', 'A')}"
            ]
          },
          "metadata": {},
          "execution_count": 24
        }
      ]
    },
    {
      "cell_type": "markdown",
      "source": [
        "Usamos la función `intersection`"
      ],
      "metadata": {
        "id": "iunOJkET58tF"
      }
    },
    {
      "cell_type": "code",
      "source": [
        "A=A_1.intersection(A_2.intersection(A_3))\n",
        "A"
      ],
      "metadata": {
        "colab": {
          "base_uri": "https://localhost:8080/"
        },
        "id": "RJMJfvw26UbD",
        "outputId": "d57b6e78-f622-4206-94fa-6083e469eaf6"
      },
      "execution_count": null,
      "outputs": [
        {
          "output_type": "execute_result",
          "data": {
            "text/plain": [
              "{('A', 'A', 'A')}"
            ]
          },
          "metadata": {},
          "execution_count": 26
        }
      ]
    },
    {
      "cell_type": "code",
      "source": [
        "P_A=len(A)/len(Omega)\n",
        "P_A"
      ],
      "metadata": {
        "colab": {
          "base_uri": "https://localhost:8080/"
        },
        "id": "XrhWTgbn6fmZ",
        "outputId": "c4892ad6-dfe2-43d1-8919-47f2dae193b5"
      },
      "execution_count": null,
      "outputs": [
        {
          "output_type": "execute_result",
          "data": {
            "text/plain": [
              "0.125"
            ]
          },
          "metadata": {},
          "execution_count": 27
        }
      ]
    },
    {
      "cell_type": "code",
      "source": [
        "A={om for om in Omega if om.count(\"A\")==3}\n",
        "A"
      ],
      "metadata": {
        "colab": {
          "base_uri": "https://localhost:8080/"
        },
        "id": "FIONCOGF8ETg",
        "outputId": "87882b42-80ba-4f10-bcdf-7098cba2f315"
      },
      "execution_count": null,
      "outputs": [
        {
          "output_type": "execute_result",
          "data": {
            "text/plain": [
              "{('A', 'A', 'A')}"
            ]
          },
          "metadata": {},
          "execution_count": 29
        }
      ]
    },
    {
      "cell_type": "code",
      "source": [
        "P_A=len(A)/len(Omega)\n",
        "P_A"
      ],
      "metadata": {
        "colab": {
          "base_uri": "https://localhost:8080/"
        },
        "id": "AI1np14E9CcT",
        "outputId": "01981bdd-dd0b-4257-ad64-afd707b12215"
      },
      "execution_count": null,
      "outputs": [
        {
          "output_type": "execute_result",
          "data": {
            "text/plain": [
              "0.125"
            ]
          },
          "metadata": {},
          "execution_count": 30
        }
      ]
    },
    {
      "cell_type": "markdown",
      "source": [
        "###Creación de funciones(globales)"
      ],
      "metadata": {
        "id": "lduOR-1j9AXB"
      }
    },
    {
      "cell_type": "markdown",
      "source": [
        "Vamos a crear una función que calcule la probabilidad de un evento dentro de un espacio muestral en el contexto clásico."
      ],
      "metadata": {
        "id": "0DJiXtnn-NHz"
      }
    },
    {
      "cell_type": "code",
      "source": [
        "from fractions import Fraction\n",
        "\n",
        "def P(E, Omega):\n",
        "  p =Fraction(len(E)/len(Omega))\n",
        "  return p"
      ],
      "metadata": {
        "id": "fhzl8dxd9qZ7"
      },
      "execution_count": null,
      "outputs": []
    },
    {
      "cell_type": "code",
      "source": [
        "P(A,Omega)"
      ],
      "metadata": {
        "colab": {
          "base_uri": "https://localhost:8080/"
        },
        "id": "Sx2fUtjH_BhO",
        "outputId": "612e78d1-9982-4fb2-aa3c-cf0a048ebccf"
      },
      "execution_count": null,
      "outputs": [
        {
          "output_type": "execute_result",
          "data": {
            "text/plain": [
              "Fraction(1, 8)"
            ]
          },
          "metadata": {},
          "execution_count": 34
        }
      ]
    },
    {
      "cell_type": "code",
      "source": [
        "S={om for om in Omega if om.count(\"S\")==3}\n",
        "S"
      ],
      "metadata": {
        "colab": {
          "base_uri": "https://localhost:8080/"
        },
        "id": "iRA_SqQ9_XiE",
        "outputId": "48d48876-56ee-42f0-84ea-6d4bb011b5ea"
      },
      "execution_count": null,
      "outputs": [
        {
          "output_type": "execute_result",
          "data": {
            "text/plain": [
              "{('S', 'S', 'S')}"
            ]
          },
          "metadata": {},
          "execution_count": 35
        }
      ]
    },
    {
      "cell_type": "code",
      "source": [
        "P(S,Omega)"
      ],
      "metadata": {
        "colab": {
          "base_uri": "https://localhost:8080/"
        },
        "id": "ngHBJD5A_hW-",
        "outputId": "ecfbeb20-bf4e-4a84-8a11-c24c723ee6a2"
      },
      "execution_count": null,
      "outputs": [
        {
          "output_type": "execute_result",
          "data": {
            "text/plain": [
              "Fraction(1, 8)"
            ]
          },
          "metadata": {},
          "execution_count": 36
        }
      ]
    },
    {
      "cell_type": "code",
      "source": [
        "E={om for om in Omega if om.count(\"S\")>=1}\n",
        "E"
      ],
      "metadata": {
        "colab": {
          "base_uri": "https://localhost:8080/"
        },
        "id": "81HS8hGrA5rn",
        "outputId": "c2ae9608-f637-4000-d5e1-29f1c7de2080"
      },
      "execution_count": null,
      "outputs": [
        {
          "output_type": "execute_result",
          "data": {
            "text/plain": [
              "{('A', 'A', 'S'),\n",
              " ('A', 'S', 'A'),\n",
              " ('A', 'S', 'S'),\n",
              " ('S', 'A', 'A'),\n",
              " ('S', 'A', 'S'),\n",
              " ('S', 'S', 'A'),\n",
              " ('S', 'S', 'S')}"
            ]
          },
          "metadata": {},
          "execution_count": 39
        }
      ]
    },
    {
      "cell_type": "code",
      "source": [
        "P(E,Omega)"
      ],
      "metadata": {
        "colab": {
          "base_uri": "https://localhost:8080/"
        },
        "id": "mx3byJQNBZZ4",
        "outputId": "19bafac1-e4c9-44a9-aac7-f0218a22f9ce"
      },
      "execution_count": null,
      "outputs": [
        {
          "output_type": "execute_result",
          "data": {
            "text/plain": [
              "Fraction(7, 8)"
            ]
          },
          "metadata": {},
          "execution_count": 40
        }
      ]
    },
    {
      "cell_type": "markdown",
      "source": [
        "Consideramos el siguiente evento\n",
        "\n",
        "\n",
        "\n",
        "1.   C: la primer cara sea águila y la segunda sea sol\n",
        "\n"
      ],
      "metadata": {
        "id": "Z3aJJdzvBdYe"
      }
    },
    {
      "cell_type": "code",
      "source": [
        "C={om for om in Omega if om[0]==\"A\" and om[1]==\"S\"}\n",
        "C"
      ],
      "metadata": {
        "colab": {
          "base_uri": "https://localhost:8080/"
        },
        "id": "hd6k1tZ9CCgU",
        "outputId": "3f0672a8-67cf-4fc9-ecb3-85deb7e16c74"
      },
      "execution_count": null,
      "outputs": [
        {
          "output_type": "execute_result",
          "data": {
            "text/plain": [
              "{('A', 'S', 'A'), ('A', 'S', 'S')}"
            ]
          },
          "metadata": {},
          "execution_count": 43
        }
      ]
    },
    {
      "cell_type": "code",
      "source": [
        "P(C,Omega)"
      ],
      "metadata": {
        "colab": {
          "base_uri": "https://localhost:8080/"
        },
        "id": "NMlhUSFIDwh_",
        "outputId": "e48464c3-6bf7-4d70-e165-f5c124f6a7f6"
      },
      "execution_count": null,
      "outputs": [
        {
          "output_type": "execute_result",
          "data": {
            "text/plain": [
              "Fraction(1, 4)"
            ]
          },
          "metadata": {},
          "execution_count": 44
        }
      ]
    }
  ]
}